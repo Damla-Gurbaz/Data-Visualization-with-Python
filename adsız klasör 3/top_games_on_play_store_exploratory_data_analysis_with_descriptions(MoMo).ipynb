{
 "cells": [
  {
   "cell_type": "markdown",
   "id": "831911c7",
   "metadata": {},
   "source": [
    "# Hello Everyone!\n",
    "- You can download the \".csv\" file required for this study about the best games in the Google Play Store from the input section.\n",
    "- In this study, which includes plenty of instructions and explanations, it is aimed to familiarize new Data Scientists with real-time projects.\n",
    "- As entry-level analysts, we will make Exploratory Data Analysis (EDA) with the data set we have.\n",
    "- Study's dataset has top 100 games of each category of games on Google Play Store along with their ratings and other data like price and number of installs.\n",
    "- **I owe my respect and thanks to Mr. Kaan as our reference. (https://www.kaggle.com/kaanboke)**"
   ]
  },
  {
   "cell_type": "markdown",
   "id": "0f50a466",
   "metadata": {},
   "source": [
    "#### Libraries\n",
    "- Let's start with importing our necessary libraries.\n",
    "    - As always, let's first import our ***Numpy*** and ***Pandas*** libraries and add our ***Plotly*** interactive library that we will use for Data Visualization."
   ]
  },
  {
   "cell_type": "markdown",
   "id": "d7a305a9",
   "metadata": {},
   "source": [
    "#### Explanatory information about the Plotly library:\n",
    "- ***Qick overview:*** The plotly Python library is an interactive, open-source plotting library that supports over 40 unique chart types covering a wide range of statistical, financial, geographic, scientific, and 3-dimensional use-cases.\n",
    "    - https://plotly.com/python/getting-started/"
   ]
  },
  {
   "cell_type": "markdown",
   "id": "84e7278b",
   "metadata": {},
   "source": [
    "#### If your plotly module is not in your working environment, please download plotly and run the following codes.\n",
    "- First --> ***pip install plotly==5.1.0***\n",
    "- Then  --> ***import plotly.io as pio*** and ***pio.renderers.default = 'iframe'***"
   ]
  },
  {
   "cell_type": "code",
   "execution_count": 5,
   "id": "1940daf2",
   "metadata": {},
   "outputs": [
    {
     "name": "stdout",
     "output_type": "stream",
     "text": [
      "Collecting plotly==5.1.0\n",
      "  Downloading plotly-5.1.0-py2.py3-none-any.whl (20.6 MB)\n",
      "Requirement already satisfied: six in c:\\users\\contravolta\\anaconda3\\lib\\site-packages (from plotly==5.1.0) (1.15.0)\n",
      "Collecting tenacity>=6.2.0\n",
      "  Downloading tenacity-8.0.1-py3-none-any.whl (24 kB)\n",
      "Installing collected packages: tenacity, plotly\n",
      "Successfully installed plotly-5.1.0 tenacity-8.0.1\n",
      "Note: you may need to restart the kernel to use updated packages.\n"
     ]
    }
   ],
   "source": [
    "pip install plotly==5.1.0"
   ]
  },
  {
   "cell_type": "code",
   "execution_count": 7,
   "id": "a070d665",
   "metadata": {},
   "outputs": [],
   "source": [
    "# I assume you already know these two indispensable libraries.\n",
    "import pandas as pd\n",
    "import numpy as np\n",
    "\n",
    "# The Seaborn Library contains both data sets and is a very useful library for data visualization.\n",
    "import seaborn as sns\n",
    "\n",
    "# We can only use the matplotlib library for only plots for now.\n",
    "import matplotlib.pyplot as plt\n",
    "\n",
    "# Let's not forget to ignore our warning messages as well.\n",
    "import warnings\n",
    "warnings.filterwarnings('ignore')\n",
    "\n",
    "# Let's import the plotly library\n",
    "import plotly.io as pio\n",
    "pio.renderers.default = 'iframe'\n",
    "\n",
    "import plotly \n",
    "import plotly.express as px\n",
    "import plotly.graph_objs as go\n",
    "import plotly.offline as py\n",
    "from plotly.offline import iplot\n",
    "from plotly.subplots import make_subplots\n",
    "import plotly.figure_factory as ff"
   ]
  },
  {
   "cell_type": "markdown",
   "id": "b3f7ee38",
   "metadata": {},
   "source": [
    "## Take a Look at The Basics\n",
    "\n",
    "- Now we need to read our .csv file wihc we've downloade from input section.\n",
    "- And let's take a look at the basics of the our dataset"
   ]
  },
  {
   "cell_type": "code",
   "execution_count": 9,
   "id": "8eff1b37",
   "metadata": {},
   "outputs": [
    {
     "data": {
      "text/html": [
       "<div>\n",
       "<style scoped>\n",
       "    .dataframe tbody tr th:only-of-type {\n",
       "        vertical-align: middle;\n",
       "    }\n",
       "\n",
       "    .dataframe tbody tr th {\n",
       "        vertical-align: top;\n",
       "    }\n",
       "\n",
       "    .dataframe thead th {\n",
       "        text-align: right;\n",
       "    }\n",
       "</style>\n",
       "<table border=\"1\" class=\"dataframe\">\n",
       "  <thead>\n",
       "    <tr style=\"text-align: right;\">\n",
       "      <th></th>\n",
       "      <th>rank</th>\n",
       "      <th>title</th>\n",
       "      <th>total ratings</th>\n",
       "      <th>installs</th>\n",
       "      <th>average rating</th>\n",
       "      <th>growth (30 days)</th>\n",
       "      <th>growth (60 days)</th>\n",
       "      <th>price</th>\n",
       "      <th>category</th>\n",
       "      <th>5 star ratings</th>\n",
       "      <th>4 star ratings</th>\n",
       "      <th>3 star ratings</th>\n",
       "      <th>2 star ratings</th>\n",
       "      <th>1 star ratings</th>\n",
       "      <th>paid</th>\n",
       "    </tr>\n",
       "  </thead>\n",
       "  <tbody>\n",
       "    <tr>\n",
       "      <th>0</th>\n",
       "      <td>1</td>\n",
       "      <td>Garena Free Fire- World Series</td>\n",
       "      <td>86273129</td>\n",
       "      <td>500.0 M</td>\n",
       "      <td>4</td>\n",
       "      <td>2.1</td>\n",
       "      <td>6.9</td>\n",
       "      <td>0.0</td>\n",
       "      <td>GAME ACTION</td>\n",
       "      <td>63546766</td>\n",
       "      <td>4949507</td>\n",
       "      <td>3158756</td>\n",
       "      <td>2122183</td>\n",
       "      <td>12495915</td>\n",
       "      <td>False</td>\n",
       "    </tr>\n",
       "    <tr>\n",
       "      <th>1</th>\n",
       "      <td>2</td>\n",
       "      <td>PUBG MOBILE - Traverse</td>\n",
       "      <td>37276732</td>\n",
       "      <td>500.0 M</td>\n",
       "      <td>4</td>\n",
       "      <td>1.8</td>\n",
       "      <td>3.6</td>\n",
       "      <td>0.0</td>\n",
       "      <td>GAME ACTION</td>\n",
       "      <td>28339753</td>\n",
       "      <td>2164478</td>\n",
       "      <td>1253185</td>\n",
       "      <td>809821</td>\n",
       "      <td>4709492</td>\n",
       "      <td>False</td>\n",
       "    </tr>\n",
       "    <tr>\n",
       "      <th>2</th>\n",
       "      <td>3</td>\n",
       "      <td>Mobile Legends: Bang Bang</td>\n",
       "      <td>26663595</td>\n",
       "      <td>100.0 M</td>\n",
       "      <td>4</td>\n",
       "      <td>1.5</td>\n",
       "      <td>3.2</td>\n",
       "      <td>0.0</td>\n",
       "      <td>GAME ACTION</td>\n",
       "      <td>18777988</td>\n",
       "      <td>1812094</td>\n",
       "      <td>1050600</td>\n",
       "      <td>713912</td>\n",
       "      <td>4308998</td>\n",
       "      <td>False</td>\n",
       "    </tr>\n",
       "    <tr>\n",
       "      <th>3</th>\n",
       "      <td>4</td>\n",
       "      <td>Brawl Stars</td>\n",
       "      <td>17971552</td>\n",
       "      <td>100.0 M</td>\n",
       "      <td>4</td>\n",
       "      <td>1.4</td>\n",
       "      <td>4.4</td>\n",
       "      <td>0.0</td>\n",
       "      <td>GAME ACTION</td>\n",
       "      <td>13018610</td>\n",
       "      <td>1552950</td>\n",
       "      <td>774012</td>\n",
       "      <td>406184</td>\n",
       "      <td>2219794</td>\n",
       "      <td>False</td>\n",
       "    </tr>\n",
       "    <tr>\n",
       "      <th>4</th>\n",
       "      <td>5</td>\n",
       "      <td>Sniper 3D: Fun Free Online FPS Shooting Game</td>\n",
       "      <td>14464235</td>\n",
       "      <td>500.0 M</td>\n",
       "      <td>4</td>\n",
       "      <td>0.8</td>\n",
       "      <td>1.5</td>\n",
       "      <td>0.0</td>\n",
       "      <td>GAME ACTION</td>\n",
       "      <td>9827328</td>\n",
       "      <td>2124154</td>\n",
       "      <td>1047741</td>\n",
       "      <td>380670</td>\n",
       "      <td>1084340</td>\n",
       "      <td>False</td>\n",
       "    </tr>\n",
       "  </tbody>\n",
       "</table>\n",
       "</div>"
      ],
      "text/plain": [
       "   rank                                         title  total ratings installs  \\\n",
       "0     1                Garena Free Fire- World Series       86273129  500.0 M   \n",
       "1     2                        PUBG MOBILE - Traverse       37276732  500.0 M   \n",
       "2     3                     Mobile Legends: Bang Bang       26663595  100.0 M   \n",
       "3     4                                   Brawl Stars       17971552  100.0 M   \n",
       "4     5  Sniper 3D: Fun Free Online FPS Shooting Game       14464235  500.0 M   \n",
       "\n",
       "   average rating  growth (30 days)  growth (60 days)  price     category  \\\n",
       "0               4               2.1               6.9    0.0  GAME ACTION   \n",
       "1               4               1.8               3.6    0.0  GAME ACTION   \n",
       "2               4               1.5               3.2    0.0  GAME ACTION   \n",
       "3               4               1.4               4.4    0.0  GAME ACTION   \n",
       "4               4               0.8               1.5    0.0  GAME ACTION   \n",
       "\n",
       "   5 star ratings  4 star ratings  3 star ratings  2 star ratings  \\\n",
       "0        63546766         4949507         3158756         2122183   \n",
       "1        28339753         2164478         1253185          809821   \n",
       "2        18777988         1812094         1050600          713912   \n",
       "3        13018610         1552950          774012          406184   \n",
       "4         9827328         2124154         1047741          380670   \n",
       "\n",
       "   1 star ratings   paid  \n",
       "0        12495915  False  \n",
       "1         4709492  False  \n",
       "2         4308998  False  \n",
       "3         2219794  False  \n",
       "4         1084340  False  "
      ]
     },
     "execution_count": 9,
     "metadata": {},
     "output_type": "execute_result"
    }
   ],
   "source": [
    "df= pd.read_csv('android-games.csv')  # This code is bringing our .csv under the name of df variable.\n",
    "df.head()  # As you know, we use .head() to check first 5 rows of our dataset. n = 5 rows is default, you can change."
   ]
  },
  {
   "cell_type": "markdown",
   "id": "c773cbee",
   "metadata": {},
   "source": [
    "- Now let's see how many rows and columns our dataset consists of."
   ]
  },
  {
   "cell_type": "code",
   "execution_count": 11,
   "id": "a8811da1",
   "metadata": {},
   "outputs": [
    {
     "data": {
      "text/plain": [
       "(1730, 15)"
      ]
     },
     "execution_count": 11,
     "metadata": {},
     "output_type": "execute_result"
    }
   ],
   "source": [
    "df.shape  # As you can see we use our attribute without parentheses \"()\". First value is indicating row, the following one is column.\n",
    "# So it means that, We have 1730 games (rows) and 15 different variables (columns) to work on."
   ]
  },
  {
   "cell_type": "markdown",
   "id": "e1eff1aa",
   "metadata": {},
   "source": [
    "- Now we are looking for a missing value in our dataset."
   ]
  },
  {
   "cell_type": "code",
   "execution_count": 12,
   "id": "b55e604f",
   "metadata": {},
   "outputs": [
    {
     "data": {
      "text/plain": [
       "rank                0\n",
       "title               0\n",
       "total ratings       0\n",
       "installs            0\n",
       "average rating      0\n",
       "growth (30 days)    0\n",
       "growth (60 days)    0\n",
       "price               0\n",
       "category            0\n",
       "5 star ratings      0\n",
       "4 star ratings      0\n",
       "3 star ratings      0\n",
       "2 star ratings      0\n",
       "1 star ratings      0\n",
       "paid                0\n",
       "dtype: int64"
      ]
     },
     "execution_count": 12,
     "metadata": {},
     "output_type": "execute_result"
    }
   ],
   "source": [
    "df.isnull().sum()\n",
    "# WOAW, look!!! There is no missing value.Such a data_set is very rare."
   ]
  },
  {
   "cell_type": "markdown",
   "id": "d863a17a",
   "metadata": {},
   "source": [
    "- Now let's look at some information about our dataset with our .info() function."
   ]
  },
  {
   "cell_type": "code",
   "execution_count": 14,
   "id": "a8caf103",
   "metadata": {},
   "outputs": [
    {
     "name": "stdout",
     "output_type": "stream",
     "text": [
      "<class 'pandas.core.frame.DataFrame'>\n",
      "RangeIndex: 1730 entries, 0 to 1729\n",
      "Data columns (total 15 columns):\n",
      " #   Column            Non-Null Count  Dtype  \n",
      "---  ------            --------------  -----  \n",
      " 0   rank              1730 non-null   int64  \n",
      " 1   title             1730 non-null   object \n",
      " 2   total ratings     1730 non-null   int64  \n",
      " 3   installs          1730 non-null   object \n",
      " 4   average rating    1730 non-null   int64  \n",
      " 5   growth (30 days)  1730 non-null   float64\n",
      " 6   growth (60 days)  1730 non-null   float64\n",
      " 7   price             1730 non-null   float64\n",
      " 8   category          1730 non-null   object \n",
      " 9   5 star ratings    1730 non-null   int64  \n",
      " 10  4 star ratings    1730 non-null   int64  \n",
      " 11  3 star ratings    1730 non-null   int64  \n",
      " 12  2 star ratings    1730 non-null   int64  \n",
      " 13  1 star ratings    1730 non-null   int64  \n",
      " 14  paid              1730 non-null   bool   \n",
      "dtypes: bool(1), float64(3), int64(8), object(3)\n",
      "memory usage: 191.0+ KB\n"
     ]
    }
   ],
   "source": [
    "df.info()\n",
    "# You can see how many columns in different datatype at the bottom line. \n",
    "# \"object\" means strings, \"int64\" means integer, \"float64\" is float_nums, \"bool\" is boolean type.\n",
    "# Be careful with the \"installs\" columns. Beacuse it has numbers but its type is object."
   ]
  },
  {
   "cell_type": "markdown",
   "id": "a049ab43",
   "metadata": {},
   "source": [
    "- The .describe() function gives us some basic statistical calculations for numeric columns. Let's see what is this .describe()?"
   ]
  },
  {
   "cell_type": "code",
   "execution_count": 15,
   "id": "6e8a9d17",
   "metadata": {},
   "outputs": [
    {
     "data": {
      "text/html": [
       "<div>\n",
       "<style scoped>\n",
       "    .dataframe tbody tr th:only-of-type {\n",
       "        vertical-align: middle;\n",
       "    }\n",
       "\n",
       "    .dataframe tbody tr th {\n",
       "        vertical-align: top;\n",
       "    }\n",
       "\n",
       "    .dataframe thead th {\n",
       "        text-align: right;\n",
       "    }\n",
       "</style>\n",
       "<table border=\"1\" class=\"dataframe\">\n",
       "  <thead>\n",
       "    <tr style=\"text-align: right;\">\n",
       "      <th></th>\n",
       "      <th>rank</th>\n",
       "      <th>total ratings</th>\n",
       "      <th>average rating</th>\n",
       "      <th>growth (30 days)</th>\n",
       "      <th>growth (60 days)</th>\n",
       "      <th>price</th>\n",
       "      <th>5 star ratings</th>\n",
       "      <th>4 star ratings</th>\n",
       "      <th>3 star ratings</th>\n",
       "      <th>2 star ratings</th>\n",
       "      <th>1 star ratings</th>\n",
       "    </tr>\n",
       "  </thead>\n",
       "  <tbody>\n",
       "    <tr>\n",
       "      <th>count</th>\n",
       "      <td>1730.000000</td>\n",
       "      <td>1.730000e+03</td>\n",
       "      <td>1730.000000</td>\n",
       "      <td>1730.000000</td>\n",
       "      <td>1730.000000</td>\n",
       "      <td>1730.000000</td>\n",
       "      <td>1.730000e+03</td>\n",
       "      <td>1.730000e+03</td>\n",
       "      <td>1.730000e+03</td>\n",
       "      <td>1.730000e+03</td>\n",
       "      <td>1.730000e+03</td>\n",
       "    </tr>\n",
       "    <tr>\n",
       "      <th>mean</th>\n",
       "      <td>50.386705</td>\n",
       "      <td>1.064332e+06</td>\n",
       "      <td>3.908092</td>\n",
       "      <td>321.735896</td>\n",
       "      <td>122.554971</td>\n",
       "      <td>0.010942</td>\n",
       "      <td>7.622315e+05</td>\n",
       "      <td>1.164366e+05</td>\n",
       "      <td>5.706307e+04</td>\n",
       "      <td>2.710336e+04</td>\n",
       "      <td>1.014950e+05</td>\n",
       "    </tr>\n",
       "    <tr>\n",
       "      <th>std</th>\n",
       "      <td>28.936742</td>\n",
       "      <td>3.429250e+06</td>\n",
       "      <td>0.290973</td>\n",
       "      <td>6018.914507</td>\n",
       "      <td>2253.891703</td>\n",
       "      <td>0.214987</td>\n",
       "      <td>2.538658e+06</td>\n",
       "      <td>3.021631e+05</td>\n",
       "      <td>1.495314e+05</td>\n",
       "      <td>8.154542e+04</td>\n",
       "      <td>4.083745e+05</td>\n",
       "    </tr>\n",
       "    <tr>\n",
       "      <th>min</th>\n",
       "      <td>1.000000</td>\n",
       "      <td>3.299300e+04</td>\n",
       "      <td>2.000000</td>\n",
       "      <td>0.000000</td>\n",
       "      <td>0.000000</td>\n",
       "      <td>0.000000</td>\n",
       "      <td>1.397500e+04</td>\n",
       "      <td>2.451000e+03</td>\n",
       "      <td>7.180000e+02</td>\n",
       "      <td>2.660000e+02</td>\n",
       "      <td>5.450000e+02</td>\n",
       "    </tr>\n",
       "    <tr>\n",
       "      <th>25%</th>\n",
       "      <td>25.000000</td>\n",
       "      <td>1.759992e+05</td>\n",
       "      <td>4.000000</td>\n",
       "      <td>0.100000</td>\n",
       "      <td>0.200000</td>\n",
       "      <td>0.000000</td>\n",
       "      <td>1.277300e+05</td>\n",
       "      <td>2.064300e+04</td>\n",
       "      <td>9.652500e+03</td>\n",
       "      <td>4.262250e+03</td>\n",
       "      <td>1.281200e+04</td>\n",
       "    </tr>\n",
       "    <tr>\n",
       "      <th>50%</th>\n",
       "      <td>50.000000</td>\n",
       "      <td>4.286065e+05</td>\n",
       "      <td>4.000000</td>\n",
       "      <td>0.500000</td>\n",
       "      <td>1.000000</td>\n",
       "      <td>0.000000</td>\n",
       "      <td>2.964340e+05</td>\n",
       "      <td>5.098050e+04</td>\n",
       "      <td>2.507800e+04</td>\n",
       "      <td>1.067550e+04</td>\n",
       "      <td>3.368600e+04</td>\n",
       "    </tr>\n",
       "    <tr>\n",
       "      <th>75%</th>\n",
       "      <td>75.000000</td>\n",
       "      <td>8.837970e+05</td>\n",
       "      <td>4.000000</td>\n",
       "      <td>1.700000</td>\n",
       "      <td>3.300000</td>\n",
       "      <td>0.000000</td>\n",
       "      <td>6.198358e+05</td>\n",
       "      <td>1.018140e+05</td>\n",
       "      <td>5.229500e+04</td>\n",
       "      <td>2.322875e+04</td>\n",
       "      <td>8.015725e+04</td>\n",
       "    </tr>\n",
       "    <tr>\n",
       "      <th>max</th>\n",
       "      <td>100.000000</td>\n",
       "      <td>8.627313e+07</td>\n",
       "      <td>4.000000</td>\n",
       "      <td>227105.700000</td>\n",
       "      <td>69441.400000</td>\n",
       "      <td>7.490000</td>\n",
       "      <td>6.354677e+07</td>\n",
       "      <td>5.404966e+06</td>\n",
       "      <td>3.158756e+06</td>\n",
       "      <td>2.122183e+06</td>\n",
       "      <td>1.249592e+07</td>\n",
       "    </tr>\n",
       "  </tbody>\n",
       "</table>\n",
       "</div>"
      ],
      "text/plain": [
       "              rank  total ratings  average rating  growth (30 days)  \\\n",
       "count  1730.000000   1.730000e+03     1730.000000       1730.000000   \n",
       "mean     50.386705   1.064332e+06        3.908092        321.735896   \n",
       "std      28.936742   3.429250e+06        0.290973       6018.914507   \n",
       "min       1.000000   3.299300e+04        2.000000          0.000000   \n",
       "25%      25.000000   1.759992e+05        4.000000          0.100000   \n",
       "50%      50.000000   4.286065e+05        4.000000          0.500000   \n",
       "75%      75.000000   8.837970e+05        4.000000          1.700000   \n",
       "max     100.000000   8.627313e+07        4.000000     227105.700000   \n",
       "\n",
       "       growth (60 days)        price  5 star ratings  4 star ratings  \\\n",
       "count       1730.000000  1730.000000    1.730000e+03    1.730000e+03   \n",
       "mean         122.554971     0.010942    7.622315e+05    1.164366e+05   \n",
       "std         2253.891703     0.214987    2.538658e+06    3.021631e+05   \n",
       "min            0.000000     0.000000    1.397500e+04    2.451000e+03   \n",
       "25%            0.200000     0.000000    1.277300e+05    2.064300e+04   \n",
       "50%            1.000000     0.000000    2.964340e+05    5.098050e+04   \n",
       "75%            3.300000     0.000000    6.198358e+05    1.018140e+05   \n",
       "max        69441.400000     7.490000    6.354677e+07    5.404966e+06   \n",
       "\n",
       "       3 star ratings  2 star ratings  1 star ratings  \n",
       "count    1.730000e+03    1.730000e+03    1.730000e+03  \n",
       "mean     5.706307e+04    2.710336e+04    1.014950e+05  \n",
       "std      1.495314e+05    8.154542e+04    4.083745e+05  \n",
       "min      7.180000e+02    2.660000e+02    5.450000e+02  \n",
       "25%      9.652500e+03    4.262250e+03    1.281200e+04  \n",
       "50%      2.507800e+04    1.067550e+04    3.368600e+04  \n",
       "75%      5.229500e+04    2.322875e+04    8.015725e+04  \n",
       "max      3.158756e+06    2.122183e+06    1.249592e+07  "
      ]
     },
     "execution_count": 15,
     "metadata": {},
     "output_type": "execute_result"
    }
   ],
   "source": [
    "df.describe()"
   ]
  },
  {
   "cell_type": "markdown",
   "id": "849f8ff1",
   "metadata": {},
   "source": [
    "#### Before moving on to the next step, here's a general summary of what we've done so far:\n",
    "- Our dataset has games from different categories, different ratings and different number of installs.  \n",
    "- 'installs' variable has a good numerical info to use. It would be a good idea to make adjustments on it to use it as a numerical variable\n",
    "- There is no missing value, which is very good during the data preparation stage.\n",
    "- 'Category' column is categorical variable, it would be good to see whether any significant differences among the categories of the games.\n",
    "-  Numerical variables deserves special attention for further analysis.\n",
    "- 'Paid' and 'Price' seems to have a lot on common. Needs to look in detail and if necessary drop one of them for simplicity."
   ]
  },
  {
   "cell_type": "markdown",
   "id": "ca678fc3",
   "metadata": {},
   "source": [
    "## Necessary Adjustments"
   ]
  },
  {
   "cell_type": "markdown",
   "id": "73919759",
   "metadata": {},
   "source": [
    "- We need to do some action on the \"installs\" column:\n",
    "- Let's see how many variables are in it."
   ]
  },
  {
   "cell_type": "code",
   "execution_count": 16,
   "id": "e566ad1a",
   "metadata": {},
   "outputs": [
    {
     "data": {
      "text/plain": [
       "10.0 M      805\n",
       "50.0 M      252\n",
       "5.0 M       245\n",
       "100.0 M     204\n",
       "1.0 M       192\n",
       "500.0 k      15\n",
       "500.0 M      12\n",
       "100.0 k       3\n",
       "1000.0 M      2\n",
       "Name: installs, dtype: int64"
      ]
     },
     "execution_count": 16,
     "metadata": {},
     "output_type": "execute_result"
    }
   ],
   "source": [
    "df.installs.value_counts()"
   ]
  },
  {
   "cell_type": "markdown",
   "id": "b2e8da2c",
   "metadata": {},
   "source": [
    "- Let's make it numeric by making adjustments in the \"installs\" column"
   ]
  },
  {
   "cell_type": "code",
   "execution_count": 18,
   "id": "af633f6f",
   "metadata": {},
   "outputs": [
    {
     "data": {
      "text/plain": [
       "10.0      805\n",
       "50.0      252\n",
       "5.0       245\n",
       "100.0     204\n",
       "1.0       192\n",
       "0.5        15\n",
       "500.0      12\n",
       "0.1         3\n",
       "1000.0      2\n",
       "Name: installs_in_million, dtype: int64"
      ]
     },
     "execution_count": 18,
     "metadata": {},
     "output_type": "execute_result"
    }
   ],
   "source": [
    "# Let's create a function that expresses all its values in millions.\n",
    "def millions (installs_values):\n",
    "    if installs_values == \"500.0 k\":\n",
    "        return \"0.5 M\"\n",
    "    elif installs_values == '100.0 k':\n",
    "        return '0.1 M'\n",
    "    else:\n",
    "        return installs_values\n",
    "    \n",
    "# Now, we are applying our func. into the our \"install\" column.\n",
    "df[\"installs\"]= df[\"installs\"].apply(millions)\n",
    "\n",
    "# Then we can replace \"M\" with an empty string while using .str\n",
    "# After, we can use .split() to remove blanks from the edges\n",
    "# Then finally, we can chenge it's type as float.\n",
    "df[\"installs\"]= df[\"installs\"].str.replace( \"M\", \"\").str.strip().astype(\"float\")\n",
    "\n",
    "# So, right now the column name can be \"installs_in_million\"\n",
    "df= df.rename(columns={\"installs\": \"installs_in_million\"})\n",
    "\n",
    "# Let's see how many variables are in it, after adjustment.\n",
    "df[\"installs_in_million\"].value_counts()"
   ]
  },
  {
   "cell_type": "markdown",
   "id": "dfa29db9",
   "metadata": {},
   "source": [
    "- Let's see the price and paid columns and decide whether to go with both or drop one.\n",
    "- Let's check  the prices of the games."
   ]
  },
  {
   "cell_type": "markdown",
   "id": "a91243f9",
   "metadata": {},
   "source": [
    "### Prices of The Games"
   ]
  },
  {
   "cell_type": "code",
   "execution_count": 19,
   "id": "a11c6d1d",
   "metadata": {},
   "outputs": [
    {
     "data": {
      "text/plain": [
       "0.00    1723\n",
       "1.99       3\n",
       "1.49       1\n",
       "0.99       1\n",
       "2.99       1\n",
       "7.49       1\n",
       "Name: price, dtype: int64"
      ]
     },
     "execution_count": 19,
     "metadata": {},
     "output_type": "execute_result"
    }
   ],
   "source": [
    "df.price.value_counts()  # Look! Almost all the games are free"
   ]
  },
  {
   "cell_type": "markdown",
   "id": "2fe02d60",
   "metadata": {},
   "source": [
    "- Let's look at the inside of ***paid*** columns"
   ]
  },
  {
   "cell_type": "code",
   "execution_count": 20,
   "id": "7c52c720",
   "metadata": {},
   "outputs": [
    {
     "data": {
      "text/plain": [
       "False    1723\n",
       "True        7\n",
       "Name: paid, dtype: int64"
      ]
     },
     "execution_count": 20,
     "metadata": {},
     "output_type": "execute_result"
    }
   ],
   "source": [
    "df.paid.value_counts()  # Only the seven games are paid. "
   ]
  },
  {
   "cell_type": "markdown",
   "id": "29586298",
   "metadata": {},
   "source": [
    "- For this dataset, ***price*** column does not have much to offer for further analysis.\n",
    "- So let's drop the ***price*** column.\n",
    "- Dropping column, deleting rows are decisions to be taken very carefully and should based on analysis and domain knowledge"
   ]
  },
  {
   "cell_type": "code",
   "execution_count": 23,
   "id": "e19a605b",
   "metadata": {},
   "outputs": [],
   "source": [
    "df.drop(\"price\", axis = 1, inplace = True)\n",
    "# we need to use .drop() function and let's look it's attribues which we used:\n",
    "# first ve need to write our label name betweew quotation mark\n",
    "# axis = 1 is telling us that it is a column\n",
    "# if we need to make our drop permanent, we can use inplace or we can assign it to variable name"
   ]
  },
  {
   "cell_type": "code",
   "execution_count": 25,
   "id": "1fa0ec6e",
   "metadata": {},
   "outputs": [
    {
     "name": "stdout",
     "output_type": "stream",
     "text": [
      "<class 'pandas.core.frame.DataFrame'>\n",
      "RangeIndex: 1730 entries, 0 to 1729\n",
      "Data columns (total 14 columns):\n",
      " #   Column               Non-Null Count  Dtype  \n",
      "---  ------               --------------  -----  \n",
      " 0   rank                 1730 non-null   int64  \n",
      " 1   title                1730 non-null   object \n",
      " 2   total ratings        1730 non-null   int64  \n",
      " 3   installs_in_million  1730 non-null   float64\n",
      " 4   average rating       1730 non-null   int64  \n",
      " 5   growth (30 days)     1730 non-null   float64\n",
      " 6   growth (60 days)     1730 non-null   float64\n",
      " 7   category             1730 non-null   object \n",
      " 8   5 star ratings       1730 non-null   int64  \n",
      " 9   4 star ratings       1730 non-null   int64  \n",
      " 10  3 star ratings       1730 non-null   int64  \n",
      " 11  2 star ratings       1730 non-null   int64  \n",
      " 12  1 star ratings       1730 non-null   int64  \n",
      " 13  paid                 1730 non-null   bool   \n",
      "dtypes: bool(1), float64(3), int64(8), object(2)\n",
      "memory usage: 177.5+ KB\n"
     ]
    }
   ],
   "source": [
    "df.info()  # There is no price column anymore"
   ]
  },
  {
   "cell_type": "markdown",
   "id": "125d3343",
   "metadata": {},
   "source": [
    "## Analyzing"
   ]
  },
  {
   "cell_type": "markdown",
   "id": "f7b54711",
   "metadata": {},
   "source": [
    "- Now our dataset has a better view. Now we can move on to the analysis part."
   ]
  },
  {
   "cell_type": "markdown",
   "id": "5e6377d4",
   "metadata": {},
   "source": [
    "- Let's first look at dataframe and the ***categories*** columns"
   ]
  },
  {
   "cell_type": "markdown",
   "id": "e8a4a88c",
   "metadata": {},
   "source": [
    "### \"category\" column"
   ]
  },
  {
   "cell_type": "code",
   "execution_count": 26,
   "id": "c44037e0",
   "metadata": {},
   "outputs": [
    {
     "data": {
      "text/html": [
       "<div>\n",
       "<style scoped>\n",
       "    .dataframe tbody tr th:only-of-type {\n",
       "        vertical-align: middle;\n",
       "    }\n",
       "\n",
       "    .dataframe tbody tr th {\n",
       "        vertical-align: top;\n",
       "    }\n",
       "\n",
       "    .dataframe thead th {\n",
       "        text-align: right;\n",
       "    }\n",
       "</style>\n",
       "<table border=\"1\" class=\"dataframe\">\n",
       "  <thead>\n",
       "    <tr style=\"text-align: right;\">\n",
       "      <th></th>\n",
       "      <th>rank</th>\n",
       "      <th>title</th>\n",
       "      <th>total ratings</th>\n",
       "      <th>installs_in_million</th>\n",
       "      <th>average rating</th>\n",
       "      <th>growth (30 days)</th>\n",
       "      <th>growth (60 days)</th>\n",
       "      <th>category</th>\n",
       "      <th>5 star ratings</th>\n",
       "      <th>4 star ratings</th>\n",
       "      <th>3 star ratings</th>\n",
       "      <th>2 star ratings</th>\n",
       "      <th>1 star ratings</th>\n",
       "      <th>paid</th>\n",
       "    </tr>\n",
       "  </thead>\n",
       "  <tbody>\n",
       "    <tr>\n",
       "      <th>0</th>\n",
       "      <td>1</td>\n",
       "      <td>Garena Free Fire- World Series</td>\n",
       "      <td>86273129</td>\n",
       "      <td>500.0</td>\n",
       "      <td>4</td>\n",
       "      <td>2.1</td>\n",
       "      <td>6.9</td>\n",
       "      <td>GAME ACTION</td>\n",
       "      <td>63546766</td>\n",
       "      <td>4949507</td>\n",
       "      <td>3158756</td>\n",
       "      <td>2122183</td>\n",
       "      <td>12495915</td>\n",
       "      <td>False</td>\n",
       "    </tr>\n",
       "    <tr>\n",
       "      <th>1</th>\n",
       "      <td>2</td>\n",
       "      <td>PUBG MOBILE - Traverse</td>\n",
       "      <td>37276732</td>\n",
       "      <td>500.0</td>\n",
       "      <td>4</td>\n",
       "      <td>1.8</td>\n",
       "      <td>3.6</td>\n",
       "      <td>GAME ACTION</td>\n",
       "      <td>28339753</td>\n",
       "      <td>2164478</td>\n",
       "      <td>1253185</td>\n",
       "      <td>809821</td>\n",
       "      <td>4709492</td>\n",
       "      <td>False</td>\n",
       "    </tr>\n",
       "    <tr>\n",
       "      <th>2</th>\n",
       "      <td>3</td>\n",
       "      <td>Mobile Legends: Bang Bang</td>\n",
       "      <td>26663595</td>\n",
       "      <td>100.0</td>\n",
       "      <td>4</td>\n",
       "      <td>1.5</td>\n",
       "      <td>3.2</td>\n",
       "      <td>GAME ACTION</td>\n",
       "      <td>18777988</td>\n",
       "      <td>1812094</td>\n",
       "      <td>1050600</td>\n",
       "      <td>713912</td>\n",
       "      <td>4308998</td>\n",
       "      <td>False</td>\n",
       "    </tr>\n",
       "    <tr>\n",
       "      <th>3</th>\n",
       "      <td>4</td>\n",
       "      <td>Brawl Stars</td>\n",
       "      <td>17971552</td>\n",
       "      <td>100.0</td>\n",
       "      <td>4</td>\n",
       "      <td>1.4</td>\n",
       "      <td>4.4</td>\n",
       "      <td>GAME ACTION</td>\n",
       "      <td>13018610</td>\n",
       "      <td>1552950</td>\n",
       "      <td>774012</td>\n",
       "      <td>406184</td>\n",
       "      <td>2219794</td>\n",
       "      <td>False</td>\n",
       "    </tr>\n",
       "    <tr>\n",
       "      <th>4</th>\n",
       "      <td>5</td>\n",
       "      <td>Sniper 3D: Fun Free Online FPS Shooting Game</td>\n",
       "      <td>14464235</td>\n",
       "      <td>500.0</td>\n",
       "      <td>4</td>\n",
       "      <td>0.8</td>\n",
       "      <td>1.5</td>\n",
       "      <td>GAME ACTION</td>\n",
       "      <td>9827328</td>\n",
       "      <td>2124154</td>\n",
       "      <td>1047741</td>\n",
       "      <td>380670</td>\n",
       "      <td>1084340</td>\n",
       "      <td>False</td>\n",
       "    </tr>\n",
       "  </tbody>\n",
       "</table>\n",
       "</div>"
      ],
      "text/plain": [
       "   rank                                         title  total ratings  \\\n",
       "0     1                Garena Free Fire- World Series       86273129   \n",
       "1     2                        PUBG MOBILE - Traverse       37276732   \n",
       "2     3                     Mobile Legends: Bang Bang       26663595   \n",
       "3     4                                   Brawl Stars       17971552   \n",
       "4     5  Sniper 3D: Fun Free Online FPS Shooting Game       14464235   \n",
       "\n",
       "   installs_in_million  average rating  growth (30 days)  growth (60 days)  \\\n",
       "0                500.0               4               2.1               6.9   \n",
       "1                500.0               4               1.8               3.6   \n",
       "2                100.0               4               1.5               3.2   \n",
       "3                100.0               4               1.4               4.4   \n",
       "4                500.0               4               0.8               1.5   \n",
       "\n",
       "      category  5 star ratings  4 star ratings  3 star ratings  \\\n",
       "0  GAME ACTION        63546766         4949507         3158756   \n",
       "1  GAME ACTION        28339753         2164478         1253185   \n",
       "2  GAME ACTION        18777988         1812094         1050600   \n",
       "3  GAME ACTION        13018610         1552950          774012   \n",
       "4  GAME ACTION         9827328         2124154         1047741   \n",
       "\n",
       "   2 star ratings  1 star ratings   paid  \n",
       "0         2122183        12495915  False  \n",
       "1          809821         4709492  False  \n",
       "2          713912         4308998  False  \n",
       "3          406184         2219794  False  \n",
       "4          380670         1084340  False  "
      ]
     },
     "execution_count": 26,
     "metadata": {},
     "output_type": "execute_result"
    }
   ],
   "source": [
    "df.head()"
   ]
  },
  {
   "cell_type": "code",
   "execution_count": 28,
   "id": "06fc5ca9",
   "metadata": {},
   "outputs": [
    {
     "data": {
      "text/plain": [
       "GAME CARD            0.072832\n",
       "GAME WORD            0.060116\n",
       "GAME CASINO          0.057803\n",
       "GAME PUZZLE          0.057803\n",
       "GAME MUSIC           0.057803\n",
       "GAME ARCADE          0.057803\n",
       "GAME BOARD           0.057803\n",
       "GAME ACTION          0.057803\n",
       "GAME EDUCATIONAL     0.057803\n",
       "GAME CASUAL          0.057803\n",
       "GAME ROLE PLAYING    0.057803\n",
       "GAME ADVENTURE       0.057803\n",
       "GAME TRIVIA          0.057803\n",
       "GAME SPORTS          0.057803\n",
       "GAME STRATEGY        0.057803\n",
       "GAME RACING          0.057803\n",
       "GAME SIMULATION      0.057803\n",
       "Name: category, dtype: float64"
      ]
     },
     "execution_count": 28,
     "metadata": {},
     "output_type": "execute_result"
    }
   ],
   "source": [
    "df.category.value_counts(normalize = True)  # normalize attributess shows us the percentages\n",
    "# Almost all the categories looking like has same sizes."
   ]
  },
  {
   "cell_type": "markdown",
   "id": "5e746186",
   "metadata": {},
   "source": [
    "- let's create a plot to visualize our category sizes with ***matplotlib library***"
   ]
  },
  {
   "cell_type": "code",
   "execution_count": 30,
   "id": "dfd3e378",
   "metadata": {},
   "outputs": [
    {
     "data": {
      "image/png": "[encoded data removed]",
      "text/plain": [
       "<Figure size 1080x360 with 1 Axes>"
      ]
     },
     "metadata": {
      "needs_background": "light"
     },
     "output_type": "display_data"
    }
   ],
   "source": [
    "plt.figure(figsize=(15,5))  # figsize is specify our plot frame\n",
    "sns.countplot(x = \"category\", data = df)\n",
    "plt.xticks(rotation = 90);"
   ]
  },
  {
   "cell_type": "markdown",
   "id": "9807969f",
   "metadata": {},
   "source": [
    "- We can also use plotly library as we've import like **plotly.express as px**\n",
    "- Then we can order the x axis: order by descending order "
   ]
  },
  {
   "cell_type": "code",
   "execution_count": 31,
   "id": "f8b7f1ca",
   "metadata": {},
   "outputs": [
    {
     "data": {
      "text/html": [
       "<iframe\n",
       "    scrolling=\"no\"\n",
       "    width=\"100%\"\n",
       "    height=\"545px\"\n",
       "    src=\"iframe_figures/figure_31.html\"\n",
       "    frameborder=\"0\"\n",
       "    allowfullscreen\n",
       "></iframe>\n"
      ]
     },
     "metadata": {},
     "output_type": "display_data"
    }
   ],
   "source": [
    "fig = px.histogram(df, x=\"category\", title='Game Categories')\n",
    "fig.update_layout(xaxis={'categoryorder':'total descending'})\n",
    "fig.show()"
   ]
  },
  {
   "cell_type": "markdown",
   "id": "49c8ed82",
   "metadata": {},
   "source": [
    "- Let's visualize with ***seaborn library***"
   ]
  },
  {
   "cell_type": "code",
   "execution_count": 35,
   "id": "19cea6f2",
   "metadata": {},
   "outputs": [
    {
     "data": {
      "image/png": "[encoded data removed]",
      "text/plain": [
       "<Figure size 1080x360 with 1 Axes>"
      ]
     },
     "metadata": {
      "needs_background": "light"
     },
     "output_type": "display_data"
    }
   ],
   "source": [
    "plt.figure(figsize=(15,5))\n",
    "sns.barplot(x = df.category.value_counts().index, y = df.category.value_counts().values, data = df)\n",
    "plt.xticks(rotation = 90);"
   ]
  },
  {
   "cell_type": "markdown",
   "id": "c195532a",
   "metadata": {},
   "source": [
    "- Let's look atthe ***total ratings*** columns"
   ]
  },
  {
   "cell_type": "markdown",
   "id": "3e3b0b88",
   "metadata": {},
   "source": [
    "### \"total ratings\" column"
   ]
  },
  {
   "cell_type": "code",
   "execution_count": 39,
   "id": "f8a3cf0c",
   "metadata": {},
   "outputs": [
    {
     "data": {
      "text/plain": [
       "507250     4\n",
       "648068     4\n",
       "406124     4\n",
       "1590733    4\n",
       "106773     3\n",
       "          ..\n",
       "476520     1\n",
       "540007     1\n",
       "189798     1\n",
       "474469     1\n",
       "90110      1\n",
       "Name: total ratings, Length: 1699, dtype: int64"
      ]
     },
     "execution_count": 39,
     "metadata": {},
     "output_type": "execute_result"
    }
   ],
   "source": [
    "df[\"total ratings\"].value_counts()"
   ]
  },
  {
   "cell_type": "code",
   "execution_count": 40,
   "id": "e2247a0b",
   "metadata": {},
   "outputs": [
    {
     "data": {
      "text/plain": [
       "count    1.730000e+03\n",
       "mean     1.064332e+06\n",
       "std      3.429250e+06\n",
       "min      3.299300e+04\n",
       "25%      1.759992e+05\n",
       "50%      4.286065e+05\n",
       "75%      8.837970e+05\n",
       "max      8.627313e+07\n",
       "Name: total ratings, dtype: float64"
      ]
     },
     "execution_count": 40,
     "metadata": {},
     "output_type": "execute_result"
    }
   ],
   "source": [
    "df[\"total ratings\"].describe()"
   ]
  },
  {
   "cell_type": "markdown",
   "id": "8c051a58",
   "metadata": {},
   "source": [
    "- Let's visualize ***\"total ratings\"*** with histogram plot from ***seaborn lib.***"
   ]
  },
  {
   "cell_type": "code",
   "execution_count": 43,
   "id": "1a172a26",
   "metadata": {},
   "outputs": [
    {
     "data": {
      "image/png": "[encoded data removed]",
      "text/plain": [
       "<Figure size 1080x360 with 1 Axes>"
      ]
     },
     "metadata": {
      "needs_background": "light"
     },
     "output_type": "display_data"
    }
   ],
   "source": [
    "plt.figure(figsize=(15,5))\n",
    "sns.histplot(data=df, x =\"total ratings\", bins = 50);  # exactly same --> sns.histplot(df['total ratings'], bins = 50);"
   ]
  },
  {
   "cell_type": "markdown",
   "id": "7ad3dbe1",
   "metadata": {},
   "source": [
    "- Let's use ***boxplot*** from ***seaborn*** for ***\"total ratings\"***"
   ]
  },
  {
   "cell_type": "code",
   "execution_count": 44,
   "id": "56952fa6",
   "metadata": {},
   "outputs": [
    {
     "data": {
      "image/png": "[encoded data removed]",
      "text/plain": [
       "<Figure size 1080x360 with 1 Axes>"
      ]
     },
     "metadata": {
      "needs_background": "light"
     },
     "output_type": "display_data"
    }
   ],
   "source": [
    "plt.figure(figsize=(15,5))\n",
    "sns.boxplot(data=df, x =\"total ratings\");"
   ]
  },
  {
   "cell_type": "markdown",
   "id": "9dc9dd75",
   "metadata": {},
   "source": [
    "- now it's time for the ***plotly*** library"
   ]
  },
  {
   "cell_type": "code",
   "execution_count": 45,
   "id": "b7d99ab9",
   "metadata": {},
   "outputs": [
    {
     "data": {
      "text/html": [
       "<iframe\n",
       "    scrolling=\"no\"\n",
       "    width=\"100%\"\n",
       "    height=\"545px\"\n",
       "    src=\"iframe_figures/figure_45.html\"\n",
       "    frameborder=\"0\"\n",
       "    allowfullscreen\n",
       "></iframe>\n"
      ]
     },
     "metadata": {},
     "output_type": "display_data"
    }
   ],
   "source": [
    "fig = px.histogram(df, x= 'total ratings', title='Total Ratings of the Games')\n",
    "fig.show()"
   ]
  },
  {
   "cell_type": "code",
   "execution_count": 46,
   "id": "c5d79f74",
   "metadata": {},
   "outputs": [
    {
     "data": {
      "text/html": [
       "<iframe\n",
       "    scrolling=\"no\"\n",
       "    width=\"100%\"\n",
       "    height=\"545px\"\n",
       "    src=\"iframe_figures/figure_46.html\"\n",
       "    frameborder=\"0\"\n",
       "    allowfullscreen\n",
       "></iframe>\n"
      ]
     },
     "metadata": {},
     "output_type": "display_data"
    }
   ],
   "source": [
    "fig = px.box(df, x= 'total ratings', hover_data = df[['title','category']])\n",
    "fig.update_traces(quartilemethod=\"inclusive\")\n",
    "fig.show()"
   ]
  },
  {
   "cell_type": "markdown",
   "id": "fc246b9e",
   "metadata": {},
   "source": [
    "- As we have seen in the histogram, quite a lot of the ratings are in the 0 - 500.000 ratings range.\n",
    "- On the other hand ve have quite a number of outliers, which increases mean and put it further away from the median.\n",
    "- We have highly skewed distribution, more specifially right skewed distribution with the possible outliers on the maximum side of the distribution. So for further analysis it would be good to remember that.\n",
    "- In these kinds of situations, it would be a good idea to look for the median based approach.\n",
    "- Median value, instead of mean value, should be used for to get some insights from the distributions."
   ]
  },
  {
   "cell_type": "markdown",
   "id": "3a689982",
   "metadata": {},
   "source": [
    "- Let's look at the ***Number of Game Install*** information using the ***\"installs_in_million\"*** columns"
   ]
  },
  {
   "cell_type": "markdown",
   "id": "abb87e6a",
   "metadata": {},
   "source": [
    "### \"installs_in_million\" column"
   ]
  },
  {
   "cell_type": "code",
   "execution_count": 47,
   "id": "210c12c3",
   "metadata": {},
   "outputs": [
    {
     "data": {
      "text/plain": [
       "count    1730.000000\n",
       "mean       29.176185\n",
       "std        60.287333\n",
       "min         0.100000\n",
       "25%         5.000000\n",
       "50%        10.000000\n",
       "75%        50.000000\n",
       "max      1000.000000\n",
       "Name: installs_in_million, dtype: float64"
      ]
     },
     "execution_count": 47,
     "metadata": {},
     "output_type": "execute_result"
    }
   ],
   "source": [
    "df['installs_in_million'].describe()"
   ]
  },
  {
   "cell_type": "code",
   "execution_count": 48,
   "id": "cc3d550d",
   "metadata": {},
   "outputs": [
    {
     "data": {
      "text/plain": [
       "10.0      805\n",
       "50.0      252\n",
       "5.0       245\n",
       "100.0     204\n",
       "1.0       192\n",
       "0.5        15\n",
       "500.0      12\n",
       "0.1         3\n",
       "1000.0      2\n",
       "Name: installs_in_million, dtype: int64"
      ]
     },
     "execution_count": 48,
     "metadata": {},
     "output_type": "execute_result"
    }
   ],
   "source": [
    "df[\"installs_in_million\"].value_counts()"
   ]
  },
  {
   "cell_type": "markdown",
   "id": "36a7ef00",
   "metadata": {},
   "source": [
    "- Yes, let's do the necessary analysis by preparing our visualizations as we did for the previous columns."
   ]
  },
  {
   "cell_type": "code",
   "execution_count": 49,
   "id": "46d93ad2",
   "metadata": {},
   "outputs": [
    {
     "data": {
      "image/png": "[encoded data removed]",
      "text/plain": [
       "<Figure size 720x432 with 1 Axes>"
      ]
     },
     "metadata": {
      "needs_background": "light"
     },
     "output_type": "display_data"
    }
   ],
   "source": [
    "plt.figure(figsize = (10,6))\n",
    "sns.countplot( x = df['installs_in_million']);"
   ]
  },
  {
   "cell_type": "code",
   "execution_count": 55,
   "id": "55030f64",
   "metadata": {},
   "outputs": [
    {
     "data": {
      "text/html": [
       "<div>\n",
       "<style scoped>\n",
       "    .dataframe tbody tr th:only-of-type {\n",
       "        vertical-align: middle;\n",
       "    }\n",
       "\n",
       "    .dataframe tbody tr th {\n",
       "        vertical-align: top;\n",
       "    }\n",
       "\n",
       "    .dataframe thead th {\n",
       "        text-align: right;\n",
       "    }\n",
       "</style>\n",
       "<table border=\"1\" class=\"dataframe\">\n",
       "  <thead>\n",
       "    <tr style=\"text-align: right;\">\n",
       "      <th></th>\n",
       "      <th>rank</th>\n",
       "      <th>title</th>\n",
       "      <th>total ratings</th>\n",
       "      <th>installs_in_million</th>\n",
       "      <th>average rating</th>\n",
       "      <th>growth (30 days)</th>\n",
       "      <th>growth (60 days)</th>\n",
       "      <th>category</th>\n",
       "      <th>5 star ratings</th>\n",
       "      <th>4 star ratings</th>\n",
       "      <th>3 star ratings</th>\n",
       "      <th>2 star ratings</th>\n",
       "      <th>1 star ratings</th>\n",
       "      <th>paid</th>\n",
       "    </tr>\n",
       "  </thead>\n",
       "  <tbody>\n",
       "    <tr>\n",
       "      <th>0</th>\n",
       "      <td>1</td>\n",
       "      <td>Garena Free Fire- World Series</td>\n",
       "      <td>86273129</td>\n",
       "      <td>500.0</td>\n",
       "      <td>4</td>\n",
       "      <td>2.1</td>\n",
       "      <td>6.9</td>\n",
       "      <td>GAME ACTION</td>\n",
       "      <td>63546766</td>\n",
       "      <td>4949507</td>\n",
       "      <td>3158756</td>\n",
       "      <td>2122183</td>\n",
       "      <td>12495915</td>\n",
       "      <td>False</td>\n",
       "    </tr>\n",
       "    <tr>\n",
       "      <th>1</th>\n",
       "      <td>2</td>\n",
       "      <td>PUBG MOBILE - Traverse</td>\n",
       "      <td>37276732</td>\n",
       "      <td>500.0</td>\n",
       "      <td>4</td>\n",
       "      <td>1.8</td>\n",
       "      <td>3.6</td>\n",
       "      <td>GAME ACTION</td>\n",
       "      <td>28339753</td>\n",
       "      <td>2164478</td>\n",
       "      <td>1253185</td>\n",
       "      <td>809821</td>\n",
       "      <td>4709492</td>\n",
       "      <td>False</td>\n",
       "    </tr>\n",
       "    <tr>\n",
       "      <th>2</th>\n",
       "      <td>3</td>\n",
       "      <td>Mobile Legends: Bang Bang</td>\n",
       "      <td>26663595</td>\n",
       "      <td>100.0</td>\n",
       "      <td>4</td>\n",
       "      <td>1.5</td>\n",
       "      <td>3.2</td>\n",
       "      <td>GAME ACTION</td>\n",
       "      <td>18777988</td>\n",
       "      <td>1812094</td>\n",
       "      <td>1050600</td>\n",
       "      <td>713912</td>\n",
       "      <td>4308998</td>\n",
       "      <td>False</td>\n",
       "    </tr>\n",
       "    <tr>\n",
       "      <th>3</th>\n",
       "      <td>4</td>\n",
       "      <td>Brawl Stars</td>\n",
       "      <td>17971552</td>\n",
       "      <td>100.0</td>\n",
       "      <td>4</td>\n",
       "      <td>1.4</td>\n",
       "      <td>4.4</td>\n",
       "      <td>GAME ACTION</td>\n",
       "      <td>13018610</td>\n",
       "      <td>1552950</td>\n",
       "      <td>774012</td>\n",
       "      <td>406184</td>\n",
       "      <td>2219794</td>\n",
       "      <td>False</td>\n",
       "    </tr>\n",
       "    <tr>\n",
       "      <th>4</th>\n",
       "      <td>5</td>\n",
       "      <td>Sniper 3D: Fun Free Online FPS Shooting Game</td>\n",
       "      <td>14464235</td>\n",
       "      <td>500.0</td>\n",
       "      <td>4</td>\n",
       "      <td>0.8</td>\n",
       "      <td>1.5</td>\n",
       "      <td>GAME ACTION</td>\n",
       "      <td>9827328</td>\n",
       "      <td>2124154</td>\n",
       "      <td>1047741</td>\n",
       "      <td>380670</td>\n",
       "      <td>1084340</td>\n",
       "      <td>False</td>\n",
       "    </tr>\n",
       "  </tbody>\n",
       "</table>\n",
       "</div>"
      ],
      "text/plain": [
       "   rank                                         title  total ratings  \\\n",
       "0     1                Garena Free Fire- World Series       86273129   \n",
       "1     2                        PUBG MOBILE - Traverse       37276732   \n",
       "2     3                     Mobile Legends: Bang Bang       26663595   \n",
       "3     4                                   Brawl Stars       17971552   \n",
       "4     5  Sniper 3D: Fun Free Online FPS Shooting Game       14464235   \n",
       "\n",
       "   installs_in_million  average rating  growth (30 days)  growth (60 days)  \\\n",
       "0                500.0               4               2.1               6.9   \n",
       "1                500.0               4               1.8               3.6   \n",
       "2                100.0               4               1.5               3.2   \n",
       "3                100.0               4               1.4               4.4   \n",
       "4                500.0               4               0.8               1.5   \n",
       "\n",
       "      category  5 star ratings  4 star ratings  3 star ratings  \\\n",
       "0  GAME ACTION        63546766         4949507         3158756   \n",
       "1  GAME ACTION        28339753         2164478         1253185   \n",
       "2  GAME ACTION        18777988         1812094         1050600   \n",
       "3  GAME ACTION        13018610         1552950          774012   \n",
       "4  GAME ACTION         9827328         2124154         1047741   \n",
       "\n",
       "   2 star ratings  1 star ratings   paid  \n",
       "0         2122183        12495915  False  \n",
       "1          809821         4709492  False  \n",
       "2          713912         4308998  False  \n",
       "3          406184         2219794  False  \n",
       "4          380670         1084340  False  "
      ]
     },
     "execution_count": 55,
     "metadata": {},
     "output_type": "execute_result"
    }
   ],
   "source": [
    "df.head()"
   ]
  },
  {
   "cell_type": "code",
   "execution_count": 50,
   "id": "ab9b3e7d",
   "metadata": {},
   "outputs": [
    {
     "data": {
      "image/png": "[encoded data removed]",
      "text/plain": [
       "<Figure size 1080x360 with 1 Axes>"
      ]
     },
     "metadata": {
      "needs_background": "light"
     },
     "output_type": "display_data"
    }
   ],
   "source": [
    "plt.figure(figsize=(15,5))\n",
    "sns.histplot(data=df, x =\"installs_in_million\");"
   ]
  },
  {
   "cell_type": "code",
   "execution_count": 52,
   "id": "9c1c583b",
   "metadata": {},
   "outputs": [
    {
     "data": {
      "image/png": "[encoded data removed]",
      "text/plain": [
       "<Figure size 1080x360 with 1 Axes>"
      ]
     },
     "metadata": {
      "needs_background": "light"
     },
     "output_type": "display_data"
    }
   ],
   "source": [
    "plt.figure(figsize=(15,5))\n",
    "sns.boxplot(data=df, x =\"installs_in_million\");"
   ]
  },
  {
   "cell_type": "code",
   "execution_count": 53,
   "id": "01bbb2d7",
   "metadata": {},
   "outputs": [
    {
     "data": {
      "text/html": [
       "<iframe\n",
       "    scrolling=\"no\"\n",
       "    width=\"100%\"\n",
       "    height=\"545px\"\n",
       "    src=\"iframe_figures/figure_53.html\"\n",
       "    frameborder=\"0\"\n",
       "    allowfullscreen\n",
       "></iframe>\n"
      ]
     },
     "metadata": {},
     "output_type": "display_data"
    }
   ],
   "source": [
    "fig = px.histogram(df, x= 'installs_in_million', title='Number of Game Install in Millions')\n",
    "fig.show()"
   ]
  },
  {
   "cell_type": "code",
   "execution_count": 54,
   "id": "3326167f",
   "metadata": {},
   "outputs": [
    {
     "data": {
      "text/html": [
       "<iframe\n",
       "    scrolling=\"no\"\n",
       "    width=\"100%\"\n",
       "    height=\"545px\"\n",
       "    src=\"iframe_figures/figure_54.html\"\n",
       "    frameborder=\"0\"\n",
       "    allowfullscreen\n",
       "></iframe>\n"
      ]
     },
     "metadata": {},
     "output_type": "display_data"
    }
   ],
   "source": [
    "fig = px.box(df, x= 'installs_in_million', hover_data = df[['title','category']])\n",
    "fig.update_traces(quartilemethod=\"inclusive\")\n",
    "fig.show()"
   ]
  },
  {
   "cell_type": "markdown",
   "id": "2313efce",
   "metadata": {},
   "source": [
    "- We have ***right skewed*** distribution as seen from the plots.\n",
    "- **Candy Crush Saga** has ***1 Billion*** installs and **Clash of Clans** with ***500 Million*** installs shown in the box plot.\n",
    "- And ***px.hsitogrms*** are showing us the example number of installs. In the dataset we have 2 different of 1 Billion install and 12 different of 500 Million installs. \n",
    "- As you know, ***outliers*** affect our means, distributions and statistical conclusions as usual.\n",
    "- Difference between the ***mean()*** and ***median()*** values is really high (mean = 29.1M, median= 10M)\n",
    "- So, it will be a good idea to use ***median based approach***."
   ]
  },
  {
   "cell_type": "markdown",
   "id": "9cdb89d4",
   "metadata": {},
   "source": [
    "### Paid & Free Games"
   ]
  },
  {
   "cell_type": "code",
   "execution_count": 58,
   "id": "eff9c28d",
   "metadata": {},
   "outputs": [
    {
     "data": {
      "text/plain": [
       "False    1723\n",
       "True        7\n",
       "Name: paid, dtype: int64"
      ]
     },
     "execution_count": 58,
     "metadata": {},
     "output_type": "execute_result"
    }
   ],
   "source": [
    "df['paid'].value_counts()"
   ]
  },
  {
   "cell_type": "code",
   "execution_count": 57,
   "id": "3e2c5c8e",
   "metadata": {},
   "outputs": [
    {
     "data": {
      "text/plain": [
       "False    0.995954\n",
       "True     0.004046\n",
       "Name: paid, dtype: float64"
      ]
     },
     "execution_count": 57,
     "metadata": {},
     "output_type": "execute_result"
    }
   ],
   "source": [
    "df['paid'].value_counts(normalize=True)"
   ]
  },
  {
   "cell_type": "code",
   "execution_count": 60,
   "id": "d9aea946",
   "metadata": {},
   "outputs": [
    {
     "data": {
      "text/plain": [
       "[7, 1723]"
      ]
     },
     "execution_count": 60,
     "metadata": {},
     "output_type": "execute_result"
    }
   ],
   "source": [
    "values = [7, 1723]  # creating values from .value_counts()\n",
    "values"
   ]
  },
  {
   "cell_type": "code",
   "execution_count": 61,
   "id": "bc8e24f7",
   "metadata": {},
   "outputs": [
    {
     "data": {
      "text/plain": [
       "['Paid', 'Free']"
      ]
     },
     "execution_count": 61,
     "metadata": {},
     "output_type": "execute_result"
    }
   ],
   "source": [
    "index = [\"Paid\", \"Free\"]  # creating indexes\n",
    "index"
   ]
  },
  {
   "cell_type": "code",
   "execution_count": 62,
   "id": "bf815a37",
   "metadata": {},
   "outputs": [
    {
     "data": {
      "image/png": "[encoded data removed]",
      "text/plain": [
       "<Figure size 504x360 with 1 Axes>"
      ]
     },
     "metadata": {},
     "output_type": "display_data"
    }
   ],
   "source": [
    "# creating matplotlib pieplot\n",
    "plt.figure(figsize=(7,5))\n",
    "y = values\n",
    "mylabels = index\n",
    "myexplode = [0, 0]\n",
    "\n",
    "plt.pie(y, labels = mylabels, labeldistance=1.1, explode = myexplode, startangle=0, autopct='%1.1f%%')\n",
    "\n",
    "plt.show()"
   ]
  },
  {
   "cell_type": "code",
   "execution_count": 65,
   "id": "86551b0c",
   "metadata": {},
   "outputs": [
    {
     "data": {
      "image/png": "[encoded data removed]",
      "text/plain": [
       "<Figure size 504x360 with 1 Axes>"
      ]
     },
     "metadata": {},
     "output_type": "display_data"
    }
   ],
   "source": [
    "# exactly the same like before\n",
    "plt.figure(figsize=(7,5))\n",
    "y = df[\"paid\"].value_counts().values\n",
    "mylabels = df[\"paid\"].value_counts().index\n",
    "myexplode = [0, 0]\n",
    "\n",
    "plt.pie(y, labels = mylabels, labeldistance=1.1, explode = myexplode, startangle=0, autopct='%1.1f%%')\n",
    "\n",
    "plt.show()"
   ]
  },
  {
   "cell_type": "code",
   "execution_count": 63,
   "id": "ce705060",
   "metadata": {},
   "outputs": [
    {
     "data": {
      "text/html": [
       "<iframe\n",
       "    scrolling=\"no\"\n",
       "    width=\"100%\"\n",
       "    height=\"545px\"\n",
       "    src=\"iframe_figures/figure_63.html\"\n",
       "    frameborder=\"0\"\n",
       "    allowfullscreen\n",
       "></iframe>\n"
      ]
     },
     "metadata": {},
     "output_type": "display_data"
    }
   ],
   "source": [
    "# creating pieplot using with plotly library\n",
    "paid_free= df['paid'].value_counts()\n",
    "label =['Free','Paid']\n",
    "fig = px.pie(paid_free, values=df['paid'].value_counts().values, names=label,\n",
    "             title='Paid & Free Games')\n",
    "fig.update_traces(textposition='inside', textinfo='percent+label')\n",
    "fig.show()"
   ]
  },
  {
   "cell_type": "markdown",
   "id": "712deb3d",
   "metadata": {},
   "source": [
    "- Almost all of the games in this dataset (except 7 out of 1730) are free games."
   ]
  },
  {
   "cell_type": "markdown",
   "id": "bf1f5537",
   "metadata": {},
   "source": [
    "- ***Let's go deeper into the data_set*** and work with the simultaneously ***\"total ratings\"*** and ***\"category\"***"
   ]
  },
  {
   "cell_type": "markdown",
   "id": "95c56d82",
   "metadata": {},
   "source": [
    "### Total Ratings by Category"
   ]
  },
  {
   "cell_type": "code",
   "execution_count": 67,
   "id": "505b87b2",
   "metadata": {},
   "outputs": [
    {
     "data": {
      "text/plain": [
       "category\n",
       "GAME ACTION          4.011344e+06\n",
       "GAME CASUAL          2.470866e+06\n",
       "GAME STRATEGY        1.856570e+06\n",
       "GAME ARCADE          1.793780e+06\n",
       "GAME SPORTS          1.353829e+06\n",
       "GAME RACING          1.139027e+06\n",
       "GAME PUZZLE          9.466929e+05\n",
       "GAME SIMULATION      9.341417e+05\n",
       "GAME ADVENTURE       8.935617e+05\n",
       "GAME ROLE PLAYING    7.087648e+05\n",
       "GAME BOARD           4.457431e+05\n",
       "GAME WORD            3.943603e+05\n",
       "GAME CASINO          3.619031e+05\n",
       "GAME CARD            3.326041e+05\n",
       "GAME TRIVIA          2.982217e+05\n",
       "GAME MUSIC           2.163020e+05\n",
       "GAME EDUCATIONAL     1.529804e+05\n",
       "Name: total ratings, dtype: float64"
      ]
     },
     "execution_count": 67,
     "metadata": {},
     "output_type": "execute_result"
    }
   ],
   "source": [
    "total_ratings_by_category = df.groupby(\"category\")[\"total ratings\"].mean().sort_values(ascending=False)\n",
    "total_ratings_by_category"
   ]
  },
  {
   "cell_type": "code",
   "execution_count": 68,
   "id": "628bec6a",
   "metadata": {},
   "outputs": [
    {
     "data": {
      "text/plain": [
       "category\n",
       "GAME ACTION          4.011344e+06\n",
       "GAME CASUAL          2.470866e+06\n",
       "GAME STRATEGY        1.856570e+06\n",
       "GAME ARCADE          1.793780e+06\n",
       "GAME SPORTS          1.353829e+06\n",
       "GAME RACING          1.139027e+06\n",
       "GAME PUZZLE          9.466929e+05\n",
       "GAME SIMULATION      9.341417e+05\n",
       "GAME ADVENTURE       8.935617e+05\n",
       "GAME ROLE PLAYING    7.087648e+05\n",
       "GAME BOARD           4.457431e+05\n",
       "GAME WORD            3.943603e+05\n",
       "GAME CASINO          3.619031e+05\n",
       "GAME CARD            3.326041e+05\n",
       "GAME TRIVIA          2.982217e+05\n",
       "GAME MUSIC           2.163020e+05\n",
       "GAME EDUCATIONAL     1.529804e+05\n",
       "Name: total ratings, dtype: float64"
      ]
     },
     "execution_count": 68,
     "metadata": {},
     "output_type": "execute_result"
    }
   ],
   "source": [
    "# looking with sorting attribute\n",
    "total_ratings_by_category = df.groupby(\"category\")[\"total ratings\"].mean().sort_values(ascending=False)\n",
    "total_ratings_by_category"
   ]
  },
  {
   "cell_type": "code",
   "execution_count": 69,
   "id": "7508c1f3",
   "metadata": {},
   "outputs": [
    {
     "data": {
      "image/png": "[encoded data removed]",
      "text/plain": [
       "<Figure size 720x432 with 1 Axes>"
      ]
     },
     "metadata": {
      "needs_background": "light"
     },
     "output_type": "display_data"
    }
   ],
   "source": [
    "plt.figure(figsize=(10,6))\n",
    "\n",
    "sns.barplot(data = df, x = total_ratings_by_category.index, y = total_ratings_by_category.values)\n",
    "plt.xticks(rotation = 60);\n",
    "plt.show()"
   ]
  },
  {
   "cell_type": "code",
   "execution_count": 70,
   "id": "6861719b",
   "metadata": {},
   "outputs": [
    {
     "data": {
      "text/html": [
       "<iframe\n",
       "    scrolling=\"no\"\n",
       "    width=\"100%\"\n",
       "    height=\"545px\"\n",
       "    src=\"iframe_figures/figure_70.html\"\n",
       "    frameborder=\"0\"\n",
       "    allowfullscreen\n",
       "></iframe>\n"
      ]
     },
     "metadata": {},
     "output_type": "display_data"
    }
   ],
   "source": [
    "fig = px.bar(total_ratings_by_category, x= total_ratings_by_category.index, y=total_ratings_by_category.values, labels={'y':'Total Ratings'})\n",
    "fig.update_layout(xaxis={'categoryorder':'total descending'})\n",
    "fig.show()"
   ]
  },
  {
   "cell_type": "markdown",
   "id": "71d3b8c8",
   "metadata": {},
   "source": [
    "- ***So:*** Games in the categories of action, casual, strategy, arcade, sports scores much more than games in the education, music categories."
   ]
  },
  {
   "cell_type": "markdown",
   "id": "dc5d3a93",
   "metadata": {},
   "source": [
    "### Number of Game Installations by Game Category"
   ]
  },
  {
   "cell_type": "code",
   "execution_count": 71,
   "id": "037226f5",
   "metadata": {},
   "outputs": [
    {
     "data": {
      "text/plain": [
       "category\n",
       "GAME ACTION          74.100000\n",
       "GAME ADVENTURE       18.030000\n",
       "GAME ARCADE          71.610000\n",
       "GAME BOARD           21.230000\n",
       "GAME CARD            12.484127\n",
       "GAME CASINO           7.715000\n",
       "GAME CASUAL          63.970000\n",
       "GAME EDUCATIONAL     17.895000\n",
       "GAME MUSIC           12.487000\n",
       "GAME PUZZLE          36.210000\n",
       "GAME RACING          46.750000\n",
       "GAME ROLE PLAYING    14.080000\n",
       "GAME SIMULATION      27.710000\n",
       "GAME SPORTS          33.610000\n",
       "GAME STRATEGY        23.910000\n",
       "GAME TRIVIA           6.901000\n",
       "GAME WORD            12.317308\n",
       "Name: installs_in_million, dtype: float64"
      ]
     },
     "execution_count": 71,
     "metadata": {},
     "output_type": "execute_result"
    }
   ],
   "source": [
    "install_by_category = df.groupby('category')['installs_in_million'].mean()\n",
    "install_by_category"
   ]
  },
  {
   "cell_type": "code",
   "execution_count": 73,
   "id": "efa0ee94",
   "metadata": {},
   "outputs": [
    {
     "data": {
      "text/plain": [
       "category\n",
       "GAME ACTION          74.100000\n",
       "GAME ARCADE          71.610000\n",
       "GAME CASUAL          63.970000\n",
       "GAME RACING          46.750000\n",
       "GAME PUZZLE          36.210000\n",
       "GAME SPORTS          33.610000\n",
       "GAME SIMULATION      27.710000\n",
       "GAME STRATEGY        23.910000\n",
       "GAME BOARD           21.230000\n",
       "GAME ADVENTURE       18.030000\n",
       "GAME EDUCATIONAL     17.895000\n",
       "GAME ROLE PLAYING    14.080000\n",
       "GAME MUSIC           12.487000\n",
       "GAME CARD            12.484127\n",
       "GAME WORD            12.317308\n",
       "GAME CASINO           7.715000\n",
       "GAME TRIVIA           6.901000\n",
       "Name: installs_in_million, dtype: float64"
      ]
     },
     "execution_count": 73,
     "metadata": {},
     "output_type": "execute_result"
    }
   ],
   "source": [
    "number_installations_by_category = df.groupby(\"category\")[\"installs_in_million\"].mean().sort_values(ascending=False)\n",
    "number_installations_by_category"
   ]
  },
  {
   "cell_type": "code",
   "execution_count": 74,
   "id": "78296eb1",
   "metadata": {},
   "outputs": [
    {
     "data": {
      "image/png": "[encoded data removed]",
      "text/plain": [
       "<Figure size 720x432 with 1 Axes>"
      ]
     },
     "metadata": {
      "needs_background": "light"
     },
     "output_type": "display_data"
    }
   ],
   "source": [
    "plt.figure(figsize=(10,6))\n",
    "\n",
    "sns.barplot(data = df, x = number_installations_by_category.index, y = number_installations_by_category.values)\n",
    "plt.xticks(rotation = 60);\n",
    "plt.show()"
   ]
  },
  {
   "cell_type": "code",
   "execution_count": 75,
   "id": "6c74b25d",
   "metadata": {},
   "outputs": [
    {
     "data": {
      "text/html": [
       "<iframe\n",
       "    scrolling=\"no\"\n",
       "    width=\"100%\"\n",
       "    height=\"545px\"\n",
       "    src=\"iframe_figures/figure_75.html\"\n",
       "    frameborder=\"0\"\n",
       "    allowfullscreen\n",
       "></iframe>\n"
      ]
     },
     "metadata": {},
     "output_type": "display_data"
    }
   ],
   "source": [
    "fig = px.bar(install_by_category, x= install_by_category.index, y=install_by_category.values, labels={'y':'Install in Millions'})\n",
    "fig.update_layout(xaxis={'categoryorder':'total descending'})\n",
    "fig.show()"
   ]
  },
  {
   "cell_type": "markdown",
   "id": "6416841a",
   "metadata": {},
   "source": [
    "- ***So:*** Games in the action, arcade and casual categories are significantly more loaded than games in the trivia, casino and word categories."
   ]
  },
  {
   "cell_type": "markdown",
   "id": "3309a9fd",
   "metadata": {},
   "source": [
    "### Comparison Between Ratings and Growth of Games For 30 Days"
   ]
  },
  {
   "cell_type": "code",
   "execution_count": 76,
   "id": "d78f0711",
   "metadata": {},
   "outputs": [
    {
     "data": {
      "text/plain": [
       "category\n",
       "GAME ACTION            18.808000\n",
       "GAME ADVENTURE        259.101000\n",
       "GAME ARCADE            58.924000\n",
       "GAME BOARD             34.445000\n",
       "GAME CARD             746.598413\n",
       "GAME CASINO          2335.253000\n",
       "GAME CASUAL            36.020000\n",
       "GAME EDUCATIONAL      102.455000\n",
       "GAME MUSIC             24.626000\n",
       "GAME PUZZLE            44.362000\n",
       "GAME RACING           207.103000\n",
       "GAME ROLE PLAYING     209.979000\n",
       "GAME SIMULATION        13.406000\n",
       "GAME SPORTS           159.543000\n",
       "GAME STRATEGY          18.281000\n",
       "GAME TRIVIA          1079.680000\n",
       "GAME WORD              22.433654\n",
       "Name: growth (30 days), dtype: float64"
      ]
     },
     "execution_count": 76,
     "metadata": {},
     "output_type": "execute_result"
    }
   ],
   "source": [
    "growth_by_category_30 = df.groupby('category')['growth (30 days)'].mean()\n",
    "growth_by_category_30"
   ]
  },
  {
   "cell_type": "code",
   "execution_count": 78,
   "id": "2bd36015",
   "metadata": {},
   "outputs": [
    {
     "data": {
      "text/html": [
       "<iframe\n",
       "    scrolling=\"no\"\n",
       "    width=\"100%\"\n",
       "    height=\"545px\"\n",
       "    src=\"iframe_figures/figure_78.html\"\n",
       "    frameborder=\"0\"\n",
       "    allowfullscreen\n",
       "></iframe>\n"
      ]
     },
     "metadata": {},
     "output_type": "display_data"
    }
   ],
   "source": [
    "fig = px.bar(growth_by_category_30, x= growth_by_category_30.index, y=growth_by_category_30, labels={'y':'Growth in 30 days'})\n",
    "fig.update_layout(xaxis={'categoryorder':'total descending'})\n",
    "fig.show()"
   ]
  },
  {
   "cell_type": "markdown",
   "id": "fc833c53",
   "metadata": {},
   "source": [
    "- Despite the fact that the games in the action categories received higher ratings and were loaded more than the games in the other categories, the games in the casino category recorded more growth in 30 days."
   ]
  },
  {
   "cell_type": "markdown",
   "id": "0e7075e0",
   "metadata": {},
   "source": [
    "### -Let's See If The Same is True For 60-Day Growth?"
   ]
  },
  {
   "cell_type": "code",
   "execution_count": 85,
   "id": "30d55bf6",
   "metadata": {},
   "outputs": [
    {
     "data": {
      "text/plain": [
       "category\n",
       "GAME BOARD           587.891000\n",
       "GAME CARD            555.337302\n",
       "GAME STRATEGY        435.440000\n",
       "GAME ACTION          118.294000\n",
       "GAME RACING           88.963000\n",
       "GAME WORD             55.725000\n",
       "GAME MUSIC            22.160000\n",
       "GAME ARCADE           21.970000\n",
       "GAME SIMULATION       20.196000\n",
       "GAME CASUAL           14.812000\n",
       "GAME EDUCATIONAL      14.748000\n",
       "GAME PUZZLE           12.062000\n",
       "GAME SPORTS            8.492000\n",
       "GAME TRIVIA            6.180000\n",
       "GAME ADVENTURE         6.084000\n",
       "GAME ROLE PLAYING      3.037000\n",
       "GAME CASINO            2.193000\n",
       "Name: growth (60 days), dtype: float64"
      ]
     },
     "execution_count": 85,
     "metadata": {},
     "output_type": "execute_result"
    }
   ],
   "source": [
    "growth_by_category_60 = df.groupby('category')['growth (60 days)'].mean().sort_values(ascending=False)\n",
    "growth_by_category_60"
   ]
  },
  {
   "cell_type": "code",
   "execution_count": 86,
   "id": "8cf7b3ad",
   "metadata": {},
   "outputs": [
    {
     "data": {
      "text/html": [
       "<iframe\n",
       "    scrolling=\"no\"\n",
       "    width=\"100%\"\n",
       "    height=\"545px\"\n",
       "    src=\"iframe_figures/figure_86.html\"\n",
       "    frameborder=\"0\"\n",
       "    allowfullscreen\n",
       "></iframe>\n"
      ]
     },
     "metadata": {},
     "output_type": "display_data"
    }
   ],
   "source": [
    "fig = px.bar(growth_by_category_60, x= growth_by_category_60.index, y=growth_by_category_60, labels={'y':'Growth in 60 days'})\n",
    "fig.update_layout(xaxis={'categoryorder':'total descending'})\n",
    "fig.show()"
   ]
  },
  {
   "cell_type": "markdown",
   "id": "f7b6a53c",
   "metadata": {},
   "source": [
    "- No, the 60-day growth for games in the ***casino, adventure, role-playing*** categories is significantly lower than their 30-day growth.\n",
    "- With the given data set we can only speculate about one thing, but we cannot make an analytical assumption based on the given data. We need more variables to explain the significant differences for some categories in 30-60 day growth."
   ]
  },
  {
   "cell_type": "markdown",
   "id": "6b11540f",
   "metadata": {},
   "source": [
    "- Lets' see ***top 5 ranked*** games in each category in details."
   ]
  },
  {
   "cell_type": "markdown",
   "id": "7e96c362",
   "metadata": {},
   "source": [
    "### Top 5 Ranked Games By Category\n",
    "- Rank\n",
    "- Title\n",
    "- Category\n",
    "- Total ratings\n",
    "- Installs in million"
   ]
  },
  {
   "cell_type": "code",
   "execution_count": 87,
   "id": "200c3f9d",
   "metadata": {},
   "outputs": [
    {
     "data": {
      "text/html": [
       "<div>\n",
       "<style scoped>\n",
       "    .dataframe tbody tr th:only-of-type {\n",
       "        vertical-align: middle;\n",
       "    }\n",
       "\n",
       "    .dataframe tbody tr th {\n",
       "        vertical-align: top;\n",
       "    }\n",
       "\n",
       "    .dataframe thead th {\n",
       "        text-align: right;\n",
       "    }\n",
       "</style>\n",
       "<table border=\"1\" class=\"dataframe\">\n",
       "  <thead>\n",
       "    <tr style=\"text-align: right;\">\n",
       "      <th></th>\n",
       "      <th>rank</th>\n",
       "      <th>title</th>\n",
       "      <th>category</th>\n",
       "      <th>total ratings</th>\n",
       "      <th>installs_in_million</th>\n",
       "      <th>5 star ratings</th>\n",
       "    </tr>\n",
       "  </thead>\n",
       "  <tbody>\n",
       "    <tr>\n",
       "      <th>0</th>\n",
       "      <td>1</td>\n",
       "      <td>Garena Free Fire- World Series</td>\n",
       "      <td>GAME ACTION</td>\n",
       "      <td>86273129</td>\n",
       "      <td>500.0</td>\n",
       "      <td>63546766</td>\n",
       "    </tr>\n",
       "    <tr>\n",
       "      <th>1</th>\n",
       "      <td>2</td>\n",
       "      <td>PUBG MOBILE - Traverse</td>\n",
       "      <td>GAME ACTION</td>\n",
       "      <td>37276732</td>\n",
       "      <td>500.0</td>\n",
       "      <td>28339753</td>\n",
       "    </tr>\n",
       "    <tr>\n",
       "      <th>2</th>\n",
       "      <td>3</td>\n",
       "      <td>Mobile Legends: Bang Bang</td>\n",
       "      <td>GAME ACTION</td>\n",
       "      <td>26663595</td>\n",
       "      <td>100.0</td>\n",
       "      <td>18777988</td>\n",
       "    </tr>\n",
       "    <tr>\n",
       "      <th>3</th>\n",
       "      <td>4</td>\n",
       "      <td>Brawl Stars</td>\n",
       "      <td>GAME ACTION</td>\n",
       "      <td>17971552</td>\n",
       "      <td>100.0</td>\n",
       "      <td>13018610</td>\n",
       "    </tr>\n",
       "    <tr>\n",
       "      <th>4</th>\n",
       "      <td>5</td>\n",
       "      <td>Sniper 3D: Fun Free Online FPS Shooting Game</td>\n",
       "      <td>GAME ACTION</td>\n",
       "      <td>14464235</td>\n",
       "      <td>500.0</td>\n",
       "      <td>9827328</td>\n",
       "    </tr>\n",
       "    <tr>\n",
       "      <th>...</th>\n",
       "      <td>...</td>\n",
       "      <td>...</td>\n",
       "      <td>...</td>\n",
       "      <td>...</td>\n",
       "      <td>...</td>\n",
       "      <td>...</td>\n",
       "    </tr>\n",
       "    <tr>\n",
       "      <th>1626</th>\n",
       "      <td>1</td>\n",
       "      <td>كلمات كراش - لعبة تسلية وتحدي من زيتونة</td>\n",
       "      <td>GAME WORD</td>\n",
       "      <td>2418119</td>\n",
       "      <td>10.0</td>\n",
       "      <td>2115189</td>\n",
       "    </tr>\n",
       "    <tr>\n",
       "      <th>1627</th>\n",
       "      <td>2</td>\n",
       "      <td>Word Cookies!®</td>\n",
       "      <td>GAME WORD</td>\n",
       "      <td>2250585</td>\n",
       "      <td>10.0</td>\n",
       "      <td>1679256</td>\n",
       "    </tr>\n",
       "    <tr>\n",
       "      <th>1628</th>\n",
       "      <td>3</td>\n",
       "      <td>Words of Wonders: Crossword to Connect Vocabulary</td>\n",
       "      <td>GAME WORD</td>\n",
       "      <td>1885400</td>\n",
       "      <td>100.0</td>\n",
       "      <td>1457939</td>\n",
       "    </tr>\n",
       "    <tr>\n",
       "      <th>1629</th>\n",
       "      <td>4</td>\n",
       "      <td>Words with Friends Classic: Word Puzzle Challenge</td>\n",
       "      <td>GAME WORD</td>\n",
       "      <td>1722914</td>\n",
       "      <td>50.0</td>\n",
       "      <td>971880</td>\n",
       "    </tr>\n",
       "    <tr>\n",
       "      <th>1630</th>\n",
       "      <td>5</td>\n",
       "      <td>4 Fotos 1 Palabra</td>\n",
       "      <td>GAME WORD</td>\n",
       "      <td>1227499</td>\n",
       "      <td>50.0</td>\n",
       "      <td>874832</td>\n",
       "    </tr>\n",
       "  </tbody>\n",
       "</table>\n",
       "<p>88 rows × 6 columns</p>\n",
       "</div>"
      ],
      "text/plain": [
       "      rank                                              title     category  \\\n",
       "0        1                     Garena Free Fire- World Series  GAME ACTION   \n",
       "1        2                             PUBG MOBILE - Traverse  GAME ACTION   \n",
       "2        3                          Mobile Legends: Bang Bang  GAME ACTION   \n",
       "3        4                                        Brawl Stars  GAME ACTION   \n",
       "4        5       Sniper 3D: Fun Free Online FPS Shooting Game  GAME ACTION   \n",
       "...    ...                                                ...          ...   \n",
       "1626     1            كلمات كراش - لعبة تسلية وتحدي من زيتونة    GAME WORD   \n",
       "1627     2                                     Word Cookies!®    GAME WORD   \n",
       "1628     3  Words of Wonders: Crossword to Connect Vocabulary    GAME WORD   \n",
       "1629     4  Words with Friends Classic: Word Puzzle Challenge    GAME WORD   \n",
       "1630     5                                  4 Fotos 1 Palabra    GAME WORD   \n",
       "\n",
       "      total ratings  installs_in_million  5 star ratings  \n",
       "0          86273129                500.0        63546766  \n",
       "1          37276732                500.0        28339753  \n",
       "2          26663595                100.0        18777988  \n",
       "3          17971552                100.0        13018610  \n",
       "4          14464235                500.0         9827328  \n",
       "...             ...                  ...             ...  \n",
       "1626        2418119                 10.0         2115189  \n",
       "1627        2250585                 10.0         1679256  \n",
       "1628        1885400                100.0         1457939  \n",
       "1629        1722914                 50.0          971880  \n",
       "1630        1227499                 50.0          874832  \n",
       "\n",
       "[88 rows x 6 columns]"
      ]
     },
     "execution_count": 87,
     "metadata": {},
     "output_type": "execute_result"
    }
   ],
   "source": [
    "top_ranked_games = df[df['rank']<6][['rank','title','category', 'total ratings', 'installs_in_million', '5 star ratings']]\n",
    "top_ranked_games"
   ]
  },
  {
   "cell_type": "markdown",
   "id": "1bf06b66",
   "metadata": {},
   "source": [
    "### Top 3 Games by Category and Their Total Ratings"
   ]
  },
  {
   "cell_type": "code",
   "execution_count": 88,
   "id": "5907d8c0",
   "metadata": {},
   "outputs": [
    {
     "data": {
      "text/html": [
       "<iframe\n",
       "    scrolling=\"no\"\n",
       "    width=\"100%\"\n",
       "    height=\"545px\"\n",
       "    src=\"iframe_figures/figure_88.html\"\n",
       "    frameborder=\"0\"\n",
       "    allowfullscreen\n",
       "></iframe>\n"
      ]
     },
     "metadata": {},
     "output_type": "display_data"
    }
   ],
   "source": [
    "fig = px.scatter(top_ranked_games, y= 'title', x='total ratings', \n",
    "                 hover_data = top_ranked_games[['category','rank']], color='category', \n",
    "                 title = \"Top 5 Games by Their Total Ratings\")\n",
    "fig.show()"
   ]
  },
  {
   "cell_type": "markdown",
   "id": "220979b2",
   "metadata": {},
   "source": [
    "- As mentioned above, games in the action, casual, strategy,arcade, sports categories are getting considerably more ratings than, games in the educational, music categories.\n",
    "- Same is true even for the top ranked games in these categories."
   ]
  },
  {
   "cell_type": "markdown",
   "id": "a64ce819",
   "metadata": {},
   "source": [
    "### Top 5 Games by Category and Their Installs in Millions"
   ]
  },
  {
   "cell_type": "code",
   "execution_count": 89,
   "id": "87a8e736",
   "metadata": {},
   "outputs": [
    {
     "data": {
      "text/html": [
       "<iframe\n",
       "    scrolling=\"no\"\n",
       "    width=\"100%\"\n",
       "    height=\"545px\"\n",
       "    src=\"iframe_figures/figure_89.html\"\n",
       "    frameborder=\"0\"\n",
       "    allowfullscreen\n",
       "></iframe>\n"
      ]
     },
     "metadata": {},
     "output_type": "display_data"
    }
   ],
   "source": [
    "fig = px.scatter(top_ranked_games, y= 'title', x='installs_in_million', \n",
    "                 hover_data = top_ranked_games[['category','rank']], color='category', \n",
    "                 title = \"Top 5 Games by Their Installations in Millions\")\n",
    "fig.show()"
   ]
  },
  {
   "cell_type": "markdown",
   "id": "639c6c61",
   "metadata": {},
   "source": [
    "- As mentioned above, games in the action, arcade, and casual categories are loaded significantly more than games in the trivia, casino, and word categories.\n",
    "\n",
    "- The same is true even for top ranked games in these categories."
   ]
  },
  {
   "cell_type": "markdown",
   "id": "364177f8",
   "metadata": {},
   "source": [
    "### Top 5 Games by Category and Their 5 star ratings"
   ]
  },
  {
   "cell_type": "code",
   "execution_count": 90,
   "id": "3c38896e",
   "metadata": {},
   "outputs": [
    {
     "data": {
      "text/html": [
       "<iframe\n",
       "    scrolling=\"no\"\n",
       "    width=\"100%\"\n",
       "    height=\"545px\"\n",
       "    src=\"iframe_figures/figure_90.html\"\n",
       "    frameborder=\"0\"\n",
       "    allowfullscreen\n",
       "></iframe>\n"
      ]
     },
     "metadata": {},
     "output_type": "display_data"
    }
   ],
   "source": [
    "fig = px.scatter(top_ranked_games, y= 'title', x='5 star ratings', \n",
    "                 hover_data = top_ranked_games[['category','rank']], color='category', \n",
    "                 title = \"Top 5 Games by 5 Star Rankings\")\n",
    "fig.show()"
   ]
  },
  {
   "cell_type": "markdown",
   "id": "6f525b3a",
   "metadata": {},
   "source": [
    "- Games in the categories of action, casual, strategy, arcade also receive more 5-star ratings than games in the education, music categories."
   ]
  },
  {
   "cell_type": "markdown",
   "id": "b030452c",
   "metadata": {},
   "source": [
    "- ***And Finally see the top 20 games***"
   ]
  },
  {
   "cell_type": "markdown",
   "id": "b3787048",
   "metadata": {},
   "source": [
    "### Top 20 Games"
   ]
  },
  {
   "cell_type": "code",
   "execution_count": 98,
   "id": "5cfa3bb6",
   "metadata": {},
   "outputs": [
    {
     "data": {
      "text/html": [
       "<div>\n",
       "<style scoped>\n",
       "    .dataframe tbody tr th:only-of-type {\n",
       "        vertical-align: middle;\n",
       "    }\n",
       "\n",
       "    .dataframe tbody tr th {\n",
       "        vertical-align: top;\n",
       "    }\n",
       "\n",
       "    .dataframe thead th {\n",
       "        text-align: right;\n",
       "    }\n",
       "</style>\n",
       "<table border=\"1\" class=\"dataframe\">\n",
       "  <thead>\n",
       "    <tr style=\"text-align: right;\">\n",
       "      <th></th>\n",
       "      <th>rank</th>\n",
       "      <th>title</th>\n",
       "      <th>total ratings</th>\n",
       "      <th>installs_in_million</th>\n",
       "      <th>average rating</th>\n",
       "      <th>growth (30 days)</th>\n",
       "      <th>growth (60 days)</th>\n",
       "      <th>category</th>\n",
       "      <th>5 star ratings</th>\n",
       "      <th>4 star ratings</th>\n",
       "      <th>3 star ratings</th>\n",
       "      <th>2 star ratings</th>\n",
       "      <th>1 star ratings</th>\n",
       "      <th>paid</th>\n",
       "    </tr>\n",
       "  </thead>\n",
       "  <tbody>\n",
       "    <tr>\n",
       "      <th>200</th>\n",
       "      <td>1</td>\n",
       "      <td>Subway Surfers</td>\n",
       "      <td>35665901</td>\n",
       "      <td>1000.0</td>\n",
       "      <td>4</td>\n",
       "      <td>0.5</td>\n",
       "      <td>1.0</td>\n",
       "      <td>GAME ARCADE</td>\n",
       "      <td>27138572</td>\n",
       "      <td>3366600</td>\n",
       "      <td>1622695</td>\n",
       "      <td>814890</td>\n",
       "      <td>2723142</td>\n",
       "      <td>False</td>\n",
       "    </tr>\n",
       "    <tr>\n",
       "      <th>626</th>\n",
       "      <td>1</td>\n",
       "      <td>Candy Crush Saga</td>\n",
       "      <td>31367945</td>\n",
       "      <td>1000.0</td>\n",
       "      <td>4</td>\n",
       "      <td>0.9</td>\n",
       "      <td>1.6</td>\n",
       "      <td>GAME CASUAL</td>\n",
       "      <td>23837448</td>\n",
       "      <td>4176798</td>\n",
       "      <td>1534041</td>\n",
       "      <td>486005</td>\n",
       "      <td>1333650</td>\n",
       "      <td>False</td>\n",
       "    </tr>\n",
       "    <tr>\n",
       "      <th>0</th>\n",
       "      <td>1</td>\n",
       "      <td>Garena Free Fire- World Series</td>\n",
       "      <td>86273129</td>\n",
       "      <td>500.0</td>\n",
       "      <td>4</td>\n",
       "      <td>2.1</td>\n",
       "      <td>6.9</td>\n",
       "      <td>GAME ACTION</td>\n",
       "      <td>63546766</td>\n",
       "      <td>4949507</td>\n",
       "      <td>3158756</td>\n",
       "      <td>2122183</td>\n",
       "      <td>12495915</td>\n",
       "      <td>False</td>\n",
       "    </tr>\n",
       "    <tr>\n",
       "      <th>207</th>\n",
       "      <td>8</td>\n",
       "      <td>Temple Run</td>\n",
       "      <td>4816448</td>\n",
       "      <td>500.0</td>\n",
       "      <td>4</td>\n",
       "      <td>0.7</td>\n",
       "      <td>1.5</td>\n",
       "      <td>GAME ARCADE</td>\n",
       "      <td>3184391</td>\n",
       "      <td>438320</td>\n",
       "      <td>318164</td>\n",
       "      <td>204384</td>\n",
       "      <td>671187</td>\n",
       "      <td>False</td>\n",
       "    </tr>\n",
       "    <tr>\n",
       "      <th>1426</th>\n",
       "      <td>1</td>\n",
       "      <td>Clash of Clans</td>\n",
       "      <td>55766763</td>\n",
       "      <td>500.0</td>\n",
       "      <td>4</td>\n",
       "      <td>0.3</td>\n",
       "      <td>1.0</td>\n",
       "      <td>GAME STRATEGY</td>\n",
       "      <td>43346128</td>\n",
       "      <td>5404966</td>\n",
       "      <td>2276203</td>\n",
       "      <td>971321</td>\n",
       "      <td>3768141</td>\n",
       "      <td>False</td>\n",
       "    </tr>\n",
       "    <tr>\n",
       "      <th>1026</th>\n",
       "      <td>1</td>\n",
       "      <td>Hill Climb Racing</td>\n",
       "      <td>10188038</td>\n",
       "      <td>500.0</td>\n",
       "      <td>4</td>\n",
       "      <td>0.4</td>\n",
       "      <td>0.8</td>\n",
       "      <td>GAME RACING</td>\n",
       "      <td>7148370</td>\n",
       "      <td>982941</td>\n",
       "      <td>607603</td>\n",
       "      <td>338715</td>\n",
       "      <td>1110407</td>\n",
       "      <td>False</td>\n",
       "    </tr>\n",
       "    <tr>\n",
       "      <th>1326</th>\n",
       "      <td>1</td>\n",
       "      <td>8 Ball Pool</td>\n",
       "      <td>21632735</td>\n",
       "      <td>500.0</td>\n",
       "      <td>4</td>\n",
       "      <td>1.2</td>\n",
       "      <td>630.8</td>\n",
       "      <td>GAME SPORTS</td>\n",
       "      <td>16281475</td>\n",
       "      <td>2268294</td>\n",
       "      <td>1017204</td>\n",
       "      <td>425693</td>\n",
       "      <td>1640067</td>\n",
       "      <td>False</td>\n",
       "    </tr>\n",
       "    <tr>\n",
       "      <th>630</th>\n",
       "      <td>5</td>\n",
       "      <td>Pou</td>\n",
       "      <td>11506051</td>\n",
       "      <td>500.0</td>\n",
       "      <td>4</td>\n",
       "      <td>0.2</td>\n",
       "      <td>0.5</td>\n",
       "      <td>GAME CASUAL</td>\n",
       "      <td>8175679</td>\n",
       "      <td>1051014</td>\n",
       "      <td>688712</td>\n",
       "      <td>346244</td>\n",
       "      <td>1244400</td>\n",
       "      <td>False</td>\n",
       "    </tr>\n",
       "    <tr>\n",
       "      <th>628</th>\n",
       "      <td>3</td>\n",
       "      <td>My Talking Angela</td>\n",
       "      <td>13050503</td>\n",
       "      <td>500.0</td>\n",
       "      <td>4</td>\n",
       "      <td>0.6</td>\n",
       "      <td>1.4</td>\n",
       "      <td>GAME CASUAL</td>\n",
       "      <td>9165205</td>\n",
       "      <td>1073761</td>\n",
       "      <td>636763</td>\n",
       "      <td>399662</td>\n",
       "      <td>1775110</td>\n",
       "      <td>False</td>\n",
       "    </tr>\n",
       "    <tr>\n",
       "      <th>1</th>\n",
       "      <td>2</td>\n",
       "      <td>PUBG MOBILE - Traverse</td>\n",
       "      <td>37276732</td>\n",
       "      <td>500.0</td>\n",
       "      <td>4</td>\n",
       "      <td>1.8</td>\n",
       "      <td>3.6</td>\n",
       "      <td>GAME ACTION</td>\n",
       "      <td>28339753</td>\n",
       "      <td>2164478</td>\n",
       "      <td>1253185</td>\n",
       "      <td>809821</td>\n",
       "      <td>4709492</td>\n",
       "      <td>False</td>\n",
       "    </tr>\n",
       "    <tr>\n",
       "      <th>627</th>\n",
       "      <td>2</td>\n",
       "      <td>My Talking Tom</td>\n",
       "      <td>16810315</td>\n",
       "      <td>500.0</td>\n",
       "      <td>4</td>\n",
       "      <td>0.3</td>\n",
       "      <td>0.5</td>\n",
       "      <td>GAME CASUAL</td>\n",
       "      <td>12234051</td>\n",
       "      <td>1514188</td>\n",
       "      <td>851145</td>\n",
       "      <td>465627</td>\n",
       "      <td>1745303</td>\n",
       "      <td>False</td>\n",
       "    </tr>\n",
       "    <tr>\n",
       "      <th>300</th>\n",
       "      <td>1</td>\n",
       "      <td>Ludo King™</td>\n",
       "      <td>7512316</td>\n",
       "      <td>500.0</td>\n",
       "      <td>4</td>\n",
       "      <td>4.0</td>\n",
       "      <td>6.5</td>\n",
       "      <td>GAME BOARD</td>\n",
       "      <td>5291589</td>\n",
       "      <td>773193</td>\n",
       "      <td>369290</td>\n",
       "      <td>204053</td>\n",
       "      <td>874188</td>\n",
       "      <td>False</td>\n",
       "    </tr>\n",
       "    <tr>\n",
       "      <th>7</th>\n",
       "      <td>8</td>\n",
       "      <td>Temple Run 2</td>\n",
       "      <td>9633929</td>\n",
       "      <td>500.0</td>\n",
       "      <td>4</td>\n",
       "      <td>0.3</td>\n",
       "      <td>0.8</td>\n",
       "      <td>GAME ACTION</td>\n",
       "      <td>6579369</td>\n",
       "      <td>991341</td>\n",
       "      <td>614643</td>\n",
       "      <td>349003</td>\n",
       "      <td>1099571</td>\n",
       "      <td>False</td>\n",
       "    </tr>\n",
       "    <tr>\n",
       "      <th>4</th>\n",
       "      <td>5</td>\n",
       "      <td>Sniper 3D: Fun Free Online FPS Shooting Game</td>\n",
       "      <td>14464235</td>\n",
       "      <td>500.0</td>\n",
       "      <td>4</td>\n",
       "      <td>0.8</td>\n",
       "      <td>1.5</td>\n",
       "      <td>GAME ACTION</td>\n",
       "      <td>9827328</td>\n",
       "      <td>2124154</td>\n",
       "      <td>1047741</td>\n",
       "      <td>380670</td>\n",
       "      <td>1084340</td>\n",
       "      <td>False</td>\n",
       "    </tr>\n",
       "    <tr>\n",
       "      <th>1264</th>\n",
       "      <td>39</td>\n",
       "      <td>Truck Simulator 2018 : Europe</td>\n",
       "      <td>758948</td>\n",
       "      <td>100.0</td>\n",
       "      <td>4</td>\n",
       "      <td>2.9</td>\n",
       "      <td>6.0</td>\n",
       "      <td>GAME SIMULATION</td>\n",
       "      <td>514724</td>\n",
       "      <td>70767</td>\n",
       "      <td>45153</td>\n",
       "      <td>28608</td>\n",
       "      <td>99693</td>\n",
       "      <td>False</td>\n",
       "    </tr>\n",
       "    <tr>\n",
       "      <th>1431</th>\n",
       "      <td>6</td>\n",
       "      <td>Castle Clash: Guild Royale</td>\n",
       "      <td>5013543</td>\n",
       "      <td>100.0</td>\n",
       "      <td>4</td>\n",
       "      <td>0.4</td>\n",
       "      <td>0.7</td>\n",
       "      <td>GAME STRATEGY</td>\n",
       "      <td>3490753</td>\n",
       "      <td>444434</td>\n",
       "      <td>253620</td>\n",
       "      <td>123462</td>\n",
       "      <td>701271</td>\n",
       "      <td>False</td>\n",
       "    </tr>\n",
       "    <tr>\n",
       "      <th>403</th>\n",
       "      <td>3</td>\n",
       "      <td>Solitaire</td>\n",
       "      <td>1590733</td>\n",
       "      <td>100.0</td>\n",
       "      <td>4</td>\n",
       "      <td>0.4</td>\n",
       "      <td>0.9</td>\n",
       "      <td>GAME CARD</td>\n",
       "      <td>431463</td>\n",
       "      <td>90350</td>\n",
       "      <td>40065</td>\n",
       "      <td>15998</td>\n",
       "      <td>70189</td>\n",
       "      <td>False</td>\n",
       "    </tr>\n",
       "    <tr>\n",
       "      <th>402</th>\n",
       "      <td>3</td>\n",
       "      <td>Solitaire</td>\n",
       "      <td>1590733</td>\n",
       "      <td>100.0</td>\n",
       "      <td>4</td>\n",
       "      <td>0.4</td>\n",
       "      <td>0.9</td>\n",
       "      <td>GAME CARD</td>\n",
       "      <td>1117298</td>\n",
       "      <td>308402</td>\n",
       "      <td>82191</td>\n",
       "      <td>25750</td>\n",
       "      <td>57090</td>\n",
       "      <td>False</td>\n",
       "    </tr>\n",
       "    <tr>\n",
       "      <th>1237</th>\n",
       "      <td>12</td>\n",
       "      <td>Dragon City Mobile</td>\n",
       "      <td>1421165</td>\n",
       "      <td>100.0</td>\n",
       "      <td>4</td>\n",
       "      <td>0.0</td>\n",
       "      <td>0.0</td>\n",
       "      <td>GAME SIMULATION</td>\n",
       "      <td>1149212</td>\n",
       "      <td>147633</td>\n",
       "      <td>52590</td>\n",
       "      <td>18948</td>\n",
       "      <td>52780</td>\n",
       "      <td>False</td>\n",
       "    </tr>\n",
       "    <tr>\n",
       "      <th>1427</th>\n",
       "      <td>2</td>\n",
       "      <td>Clash Royale</td>\n",
       "      <td>30852360</td>\n",
       "      <td>100.0</td>\n",
       "      <td>4</td>\n",
       "      <td>0.4</td>\n",
       "      <td>0.8</td>\n",
       "      <td>GAME STRATEGY</td>\n",
       "      <td>21009004</td>\n",
       "      <td>3645468</td>\n",
       "      <td>1655906</td>\n",
       "      <td>777067</td>\n",
       "      <td>3764913</td>\n",
       "      <td>False</td>\n",
       "    </tr>\n",
       "  </tbody>\n",
       "</table>\n",
       "</div>"
      ],
      "text/plain": [
       "      rank                                         title  total ratings  \\\n",
       "200      1                                Subway Surfers       35665901   \n",
       "626      1                              Candy Crush Saga       31367945   \n",
       "0        1                Garena Free Fire- World Series       86273129   \n",
       "207      8                                    Temple Run        4816448   \n",
       "1426     1                                Clash of Clans       55766763   \n",
       "1026     1                             Hill Climb Racing       10188038   \n",
       "1326     1                                   8 Ball Pool       21632735   \n",
       "630      5                                           Pou       11506051   \n",
       "628      3                             My Talking Angela       13050503   \n",
       "1        2                        PUBG MOBILE - Traverse       37276732   \n",
       "627      2                                My Talking Tom       16810315   \n",
       "300      1                                    Ludo King™        7512316   \n",
       "7        8                                  Temple Run 2        9633929   \n",
       "4        5  Sniper 3D: Fun Free Online FPS Shooting Game       14464235   \n",
       "1264    39                 Truck Simulator 2018 : Europe         758948   \n",
       "1431     6                    Castle Clash: Guild Royale        5013543   \n",
       "403      3                                     Solitaire        1590733   \n",
       "402      3                                     Solitaire        1590733   \n",
       "1237    12                            Dragon City Mobile        1421165   \n",
       "1427     2                                  Clash Royale       30852360   \n",
       "\n",
       "      installs_in_million  average rating  growth (30 days)  growth (60 days)  \\\n",
       "200                1000.0               4               0.5               1.0   \n",
       "626                1000.0               4               0.9               1.6   \n",
       "0                   500.0               4               2.1               6.9   \n",
       "207                 500.0               4               0.7               1.5   \n",
       "1426                500.0               4               0.3               1.0   \n",
       "1026                500.0               4               0.4               0.8   \n",
       "1326                500.0               4               1.2             630.8   \n",
       "630                 500.0               4               0.2               0.5   \n",
       "628                 500.0               4               0.6               1.4   \n",
       "1                   500.0               4               1.8               3.6   \n",
       "627                 500.0               4               0.3               0.5   \n",
       "300                 500.0               4               4.0               6.5   \n",
       "7                   500.0               4               0.3               0.8   \n",
       "4                   500.0               4               0.8               1.5   \n",
       "1264                100.0               4               2.9               6.0   \n",
       "1431                100.0               4               0.4               0.7   \n",
       "403                 100.0               4               0.4               0.9   \n",
       "402                 100.0               4               0.4               0.9   \n",
       "1237                100.0               4               0.0               0.0   \n",
       "1427                100.0               4               0.4               0.8   \n",
       "\n",
       "             category  5 star ratings  4 star ratings  3 star ratings  \\\n",
       "200       GAME ARCADE        27138572         3366600         1622695   \n",
       "626       GAME CASUAL        23837448         4176798         1534041   \n",
       "0         GAME ACTION        63546766         4949507         3158756   \n",
       "207       GAME ARCADE         3184391          438320          318164   \n",
       "1426    GAME STRATEGY        43346128         5404966         2276203   \n",
       "1026      GAME RACING         7148370          982941          607603   \n",
       "1326      GAME SPORTS        16281475         2268294         1017204   \n",
       "630       GAME CASUAL         8175679         1051014          688712   \n",
       "628       GAME CASUAL         9165205         1073761          636763   \n",
       "1         GAME ACTION        28339753         2164478         1253185   \n",
       "627       GAME CASUAL        12234051         1514188          851145   \n",
       "300        GAME BOARD         5291589          773193          369290   \n",
       "7         GAME ACTION         6579369          991341          614643   \n",
       "4         GAME ACTION         9827328         2124154         1047741   \n",
       "1264  GAME SIMULATION          514724           70767           45153   \n",
       "1431    GAME STRATEGY         3490753          444434          253620   \n",
       "403         GAME CARD          431463           90350           40065   \n",
       "402         GAME CARD         1117298          308402           82191   \n",
       "1237  GAME SIMULATION         1149212          147633           52590   \n",
       "1427    GAME STRATEGY        21009004         3645468         1655906   \n",
       "\n",
       "      2 star ratings  1 star ratings   paid  \n",
       "200           814890         2723142  False  \n",
       "626           486005         1333650  False  \n",
       "0            2122183        12495915  False  \n",
       "207           204384          671187  False  \n",
       "1426          971321         3768141  False  \n",
       "1026          338715         1110407  False  \n",
       "1326          425693         1640067  False  \n",
       "630           346244         1244400  False  \n",
       "628           399662         1775110  False  \n",
       "1             809821         4709492  False  \n",
       "627           465627         1745303  False  \n",
       "300           204053          874188  False  \n",
       "7             349003         1099571  False  \n",
       "4             380670         1084340  False  \n",
       "1264           28608           99693  False  \n",
       "1431          123462          701271  False  \n",
       "403            15998           70189  False  \n",
       "402            25750           57090  False  \n",
       "1237           18948           52780  False  \n",
       "1427          777067         3764913  False  "
      ]
     },
     "execution_count": 98,
     "metadata": {},
     "output_type": "execute_result"
    }
   ],
   "source": [
    "top_20 = df.sort_values(by='installs_in_million', ascending=False).head(20)  # you can also use .loc[:]\n",
    "top_20"
   ]
  },
  {
   "cell_type": "code",
   "execution_count": 101,
   "id": "fca4453b",
   "metadata": {},
   "outputs": [
    {
     "data": {
      "text/html": [
       "<iframe\n",
       "    scrolling=\"no\"\n",
       "    width=\"100%\"\n",
       "    height=\"545px\"\n",
       "    src=\"iframe_figures/figure_101.html\"\n",
       "    frameborder=\"0\"\n",
       "    allowfullscreen\n",
       "></iframe>\n"
      ]
     },
     "metadata": {},
     "output_type": "display_data"
    }
   ],
   "source": [
    "fig = px.bar(top_20, x= 'title', y='installs_in_million', hover_data = top_20[['5 star ratings']], color='category')\n",
    "fig.update_layout(xaxis={'categoryorder':'total descending'})\n",
    "fig.show()"
   ]
  },
  {
   "cell_type": "code",
   "execution_count": 126,
   "id": "156a2ad0",
   "metadata": {
    "scrolled": true
   },
   "outputs": [
    {
     "data": {
      "image/png": "[encoded data removed]",
      "text/plain": [
       "<Figure size 1080x360 with 1 Axes>"
      ]
     },
     "metadata": {
      "needs_background": "light"
     },
     "output_type": "display_data"
    }
   ],
   "source": [
    "plt.figure(figsize=(15,5))\n",
    "sns.barplot(data = top_20, x = \"title\", y = \"installs_in_million\", hue = \"category\", dodge = False)\n",
    "plt.xticks(rotation = 90)\n",
    "plt.show()"
   ]
  },
  {
   "cell_type": "markdown",
   "id": "d8e354e2",
   "metadata": {},
   "source": [
    "- Top 2 games have 1 Billion downloads.\n",
    "- The following 12 games have 500 million downloads."
   ]
  },
  {
   "cell_type": "code",
   "execution_count": 131,
   "id": "6d2e6f44",
   "metadata": {},
   "outputs": [
    {
     "data": {
      "text/html": [
       "<iframe\n",
       "    scrolling=\"no\"\n",
       "    width=\"100%\"\n",
       "    height=\"545px\"\n",
       "    src=\"iframe_figures/figure_131.html\"\n",
       "    frameborder=\"0\"\n",
       "    allowfullscreen\n",
       "></iframe>\n"
      ]
     },
     "metadata": {},
     "output_type": "display_data"
    }
   ],
   "source": [
    "fig = px.bar(top_20, x= 'title', y='total ratings', hover_data = top_20[['5 star ratings']], color='category')\n",
    "fig.update_layout(xaxis={'categoryorder':'total descending'})\n",
    "fig.show()"
   ]
  },
  {
   "cell_type": "markdown",
   "id": "8944725d",
   "metadata": {},
   "source": [
    "- It is important to see that although Candy Crush Saga and Subway Surfers have 1 Billion installs, this does not automatically mean they will get the most total points.\n",
    "- Garena Free Fire-World Series with 500M installs, also with over 86M total ratings."
   ]
  },
  {
   "cell_type": "markdown",
   "id": "70fee2ca",
   "metadata": {},
   "source": [
    "- ***It was very enjoyable to use Mr. Kaan's dataset and share this detailed beginner-level user-friendly EDA with you. Thanks for your time.***"
   ]
  }
 ],
 "metadata": {
  "kernelspec": {
   "display_name": "Python 3",
   "language": "python",
   "name": "python3"
  },
  "language_info": {
   "codemirror_mode": {
    "name": "ipython",
    "version": 3
   },
   "file_extension": ".py",
   "mimetype": "text/x-python",
   "name": "python",
   "nbconvert_exporter": "python",
   "pygments_lexer": "ipython3",
   "version": "3.8.8"
  }
 },
 "nbformat": 4,
 "nbformat_minor": 5
}
