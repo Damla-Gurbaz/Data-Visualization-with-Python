{
 "cells": [
  {
   "cell_type": "code",
   "execution_count": 2,
   "id": "15779457",
   "metadata": {},
   "outputs": [],
   "source": [
    "import numpy as np"
   ]
  },
  {
   "cell_type": "markdown",
   "id": "0c6d6f63",
   "metadata": {},
   "source": [
    "4. Write a NumPy program to create a null vector of size 10 and update sixth value to 11.\n",
    "![title](https://www.w3resource.com/w3r_images/python-numpy-image-exercise-4.png)\n"
   ]
  },
  {
   "cell_type": "code",
   "execution_count": 3,
   "id": "9f916b6c",
   "metadata": {},
   "outputs": [
    {
     "data": {
      "text/plain": [
       "array([0., 0., 0., 0., 0., 0., 0., 0., 0., 0.])"
      ]
     },
     "execution_count": 3,
     "metadata": {},
     "output_type": "execute_result"
    }
   ],
   "source": [
    "arr=np.zeros(10)\n",
    "arr"
   ]
  },
  {
   "cell_type": "code",
   "execution_count": 6,
   "id": "1c31ebdf",
   "metadata": {},
   "outputs": [
    {
     "data": {
      "text/plain": [
       "array([ 0.,  0.,  0.,  0.,  0.,  0., 11.,  0.,  0.,  0.])"
      ]
     },
     "execution_count": 6,
     "metadata": {},
     "output_type": "execute_result"
    }
   ],
   "source": [
    "arr[6]=11\n",
    "arr"
   ]
  },
  {
   "cell_type": "markdown",
   "id": "0c660fdc",
   "metadata": {},
   "source": [
    "\n",
    "\n",
    "\n",
    "\n",
    "\n",
    "\n",
    "\n",
    "\n"
   ]
  },
  {
   "cell_type": "markdown",
   "id": "e3990fbc",
   "metadata": {},
   "source": [
    "\n",
    "\n",
    "\n"
   ]
  },
  {
   "cell_type": "markdown",
   "id": "1ac833ad",
   "metadata": {},
   "source": [
    "\n"
   ]
  },
  {
   "cell_type": "markdown",
   "id": "1f3eb853",
   "metadata": {},
   "source": [
    "8. Write a NumPy program to create a 2d array with 1 on the border and 0 inside.\n",
    "![title](https://www.w3resource.com/w3r_images/python-numpy-image-exercise-8.png)"
   ]
  },
  {
   "cell_type": "code",
   "execution_count": 7,
   "id": "733d8c23",
   "metadata": {},
   "outputs": [
    {
     "data": {
      "text/plain": [
       "array([[1., 1., 1., 1., 1.],\n",
       "       [1., 1., 1., 1., 1.],\n",
       "       [1., 1., 1., 1., 1.],\n",
       "       [1., 1., 1., 1., 1.],\n",
       "       [1., 1., 1., 1., 1.]])"
      ]
     },
     "execution_count": 7,
     "metadata": {},
     "output_type": "execute_result"
    }
   ],
   "source": [
    "arr=np.ones(25).reshape(5,5)\n",
    "arr"
   ]
  },
  {
   "cell_type": "code",
   "execution_count": 9,
   "id": "66a45c83",
   "metadata": {},
   "outputs": [
    {
     "data": {
      "text/plain": [
       "array([[1., 1., 1., 1., 1.],\n",
       "       [1., 0., 0., 0., 1.],\n",
       "       [1., 0., 0., 0., 1.],\n",
       "       [1., 0., 0., 0., 1.],\n",
       "       [1., 1., 1., 1., 1.]])"
      ]
     },
     "execution_count": 9,
     "metadata": {},
     "output_type": "execute_result"
    }
   ],
   "source": [
    "arr[1:4,1:4]=0\n",
    "arr"
   ]
  },
  {
   "cell_type": "markdown",
   "id": "38e5b943",
   "metadata": {},
   "source": [
    "\n",
    "\n"
   ]
  },
  {
   "cell_type": "markdown",
   "id": "9fc2a0e8",
   "metadata": {},
   "source": [
    "\n",
    "\n"
   ]
  },
  {
   "cell_type": "markdown",
   "id": "0670769c",
   "metadata": {},
   "source": [
    "9. Write a NumPy program to add a border (filled with 0's) around an existing array.\n",
    "![title](https://www.w3resource.com/w3r_images/python-numpy-image-exercise-9.png)"
   ]
  },
  {
   "cell_type": "code",
   "execution_count": 2,
   "id": "454dc27b",
   "metadata": {},
   "outputs": [
    {
     "data": {
      "text/plain": [
       "array([[1., 1., 1.],\n",
       "       [1., 1., 1.],\n",
       "       [1., 1., 1.]])"
      ]
     },
     "execution_count": 2,
     "metadata": {},
     "output_type": "execute_result"
    }
   ],
   "source": [
    "arr=np.ones((3,3))\n",
    "arr"
   ]
  },
  {
   "cell_type": "code",
   "execution_count": 3,
   "id": "e84580f5",
   "metadata": {},
   "outputs": [],
   "source": [
    "arr=np.pad(arr,pad_width=1,mode='constant',constant_values=0)"
   ]
  },
  {
   "cell_type": "code",
   "execution_count": 4,
   "id": "31ca9f4e",
   "metadata": {},
   "outputs": [
    {
     "data": {
      "text/plain": [
       "array([[0., 0., 0., 0., 0.],\n",
       "       [0., 1., 1., 1., 0.],\n",
       "       [0., 1., 1., 1., 0.],\n",
       "       [0., 1., 1., 1., 0.],\n",
       "       [0., 0., 0., 0., 0.]])"
      ]
     },
     "execution_count": 4,
     "metadata": {},
     "output_type": "execute_result"
    }
   ],
   "source": [
    "arr"
   ]
  },
  {
   "cell_type": "markdown",
   "id": "65b25dc8",
   "metadata": {},
   "source": [
    "\n",
    "\n"
   ]
  },
  {
   "cell_type": "markdown",
   "id": "01f5065f",
   "metadata": {},
   "source": [
    "\n"
   ]
  },
  {
   "cell_type": "markdown",
   "id": "fd572ab4",
   "metadata": {},
   "source": [
    "\n",
    "\n",
    "\n",
    "10.Write a NumPy program to create a 8x8 matrix and fill it with a checkerboard pattern."
   ]
  },
  {
   "cell_type": "code",
   "execution_count": 7,
   "id": "a3d9e47e",
   "metadata": {},
   "outputs": [
    {
     "data": {
      "text/plain": [
       "array([[1., 1., 1.],\n",
       "       [1., 1., 1.],\n",
       "       [1., 1., 1.]])"
      ]
     },
     "execution_count": 7,
     "metadata": {},
     "output_type": "execute_result"
    }
   ],
   "source": [
    "arr=np.ones((3,3))\n",
    "arr"
   ]
  },
  {
   "cell_type": "code",
   "execution_count": 8,
   "id": "146c40a2",
   "metadata": {},
   "outputs": [
    {
     "data": {
      "text/plain": [
       "array([[0, 0, 0, 0, 0, 0, 0, 0],\n",
       "       [0, 0, 0, 0, 0, 0, 0, 0],\n",
       "       [0, 0, 0, 0, 0, 0, 0, 0],\n",
       "       [0, 0, 0, 0, 0, 0, 0, 0],\n",
       "       [0, 0, 0, 0, 0, 0, 0, 0],\n",
       "       [0, 0, 0, 0, 0, 0, 0, 0],\n",
       "       [0, 0, 0, 0, 0, 0, 0, 0],\n",
       "       [0, 0, 0, 0, 0, 0, 0, 0]])"
      ]
     },
     "execution_count": 8,
     "metadata": {},
     "output_type": "execute_result"
    }
   ],
   "source": [
    "arr=np.zeros((8,8), dtype=int)\n",
    "arr"
   ]
  },
  {
   "cell_type": "code",
   "execution_count": 10,
   "id": "46bbc1cc",
   "metadata": {},
   "outputs": [
    {
     "data": {
      "text/plain": [
       "array([[0, 1, 0, 1, 0, 1, 0, 1],\n",
       "       [0, 0, 0, 0, 0, 0, 0, 0],\n",
       "       [0, 1, 0, 1, 0, 1, 0, 1],\n",
       "       [0, 0, 0, 0, 0, 0, 0, 0],\n",
       "       [0, 1, 0, 1, 0, 1, 0, 1],\n",
       "       [0, 0, 0, 0, 0, 0, 0, 0],\n",
       "       [0, 1, 0, 1, 0, 1, 0, 1],\n",
       "       [0, 0, 0, 0, 0, 0, 0, 0]])"
      ]
     },
     "execution_count": 10,
     "metadata": {},
     "output_type": "execute_result"
    }
   ],
   "source": [
    "arr[0::2,1::2]=1\n",
    "arr"
   ]
  },
  {
   "cell_type": "code",
   "execution_count": 13,
   "id": "320c75d1",
   "metadata": {},
   "outputs": [
    {
     "data": {
      "text/plain": [
       "array([[0, 1, 0, 1, 0, 1, 0, 1],\n",
       "       [1, 0, 1, 0, 1, 0, 1, 0],\n",
       "       [0, 1, 0, 1, 0, 1, 0, 1],\n",
       "       [1, 0, 1, 0, 1, 0, 1, 0],\n",
       "       [0, 1, 0, 1, 0, 1, 0, 1],\n",
       "       [1, 0, 1, 0, 1, 0, 1, 0],\n",
       "       [0, 1, 0, 1, 0, 1, 0, 1],\n",
       "       [1, 0, 1, 0, 1, 0, 1, 0]])"
      ]
     },
     "execution_count": 13,
     "metadata": {},
     "output_type": "execute_result"
    }
   ],
   "source": [
    "arr[1::2,0::2]=1\n",
    "arr"
   ]
  },
  {
   "cell_type": "markdown",
   "id": "34fe21c8",
   "metadata": {},
   "source": [
    "12. Write a NumPy program to append values to the end of an array.\n",
    "\n",
    "![title](data:image/png;base64,%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)"
   ]
  },
  {
   "cell_type": "code",
   "execution_count": 13,
   "id": "be5bcb15",
   "metadata": {},
   "outputs": [
    {
     "data": {
      "text/plain": [
       "array([10, 20, 30])"
      ]
     },
     "execution_count": 13,
     "metadata": {},
     "output_type": "execute_result"
    }
   ],
   "source": [
    "arr=np.array([10,20,30])\n",
    "arr"
   ]
  },
  {
   "cell_type": "code",
   "execution_count": 14,
   "id": "00892c00",
   "metadata": {},
   "outputs": [
    {
     "data": {
      "text/plain": [
       "array([10, 20, 30, 40, 50, 60, 70, 80, 90])"
      ]
     },
     "execution_count": 14,
     "metadata": {},
     "output_type": "execute_result"
    }
   ],
   "source": [
    "arr=np.append(arr,[[40,50,60],[70,80,90]])\n",
    "arr"
   ]
  },
  {
   "cell_type": "markdown",
   "id": "c4cd55ef",
   "metadata": {},
   "source": [
    "14. Write a NumPy program to convert the values of Centigrade degrees into Fahrenheit degrees. Centigrade values are stored into a NumPy array.\n",
    "![title](https://www.w3resource.com/w3r_images/python-numpy-image-exercise-14.png)"
   ]
  },
  {
   "cell_type": "code",
   "execution_count": 15,
   "id": "ee547a94",
   "metadata": {},
   "outputs": [],
   "source": [
    "fvalues = [0, 12, 45.21, 34, 99.91]"
   ]
  },
  {
   "cell_type": "code",
   "execution_count": 16,
   "id": "4284aa59",
   "metadata": {},
   "outputs": [
    {
     "data": {
      "text/plain": [
       "array([ 0.  , 12.  , 45.21, 34.  , 99.91])"
      ]
     },
     "execution_count": 16,
     "metadata": {},
     "output_type": "execute_result"
    }
   ],
   "source": [
    "F=np.array(fvalues)\n",
    "F"
   ]
  },
  {
   "cell_type": "code",
   "execution_count": 17,
   "id": "7a4c8f0f",
   "metadata": {},
   "outputs": [
    {
     "data": {
      "text/plain": [
       "array([-17.77777778, -11.11111111,   7.33888889,   1.11111111,\n",
       "        37.72777778])"
      ]
     },
     "execution_count": 17,
     "metadata": {},
     "output_type": "execute_result"
    }
   ],
   "source": [
    "(5*(F-32))/9"
   ]
  },
  {
   "cell_type": "markdown",
   "id": "3c7d6ae0",
   "metadata": {},
   "source": [
    "\n",
    "\n"
   ]
  },
  {
   "cell_type": "markdown",
   "id": "5c23bbe5",
   "metadata": {},
   "source": [
    "\n",
    "\n"
   ]
  },
  {
   "cell_type": "markdown",
   "id": "c002c866",
   "metadata": {},
   "source": [
    "19. Write a NumPy program to get the unique elements of an array.\n",
    "![title](https://www.w3resource.com/w3r_images/python-numpy-image-exercise-19.png)"
   ]
  },
  {
   "cell_type": "code",
   "execution_count": 19,
   "id": "e32ce056",
   "metadata": {},
   "outputs": [
    {
     "data": {
      "text/plain": [
       "array([10, 10, 20, 20, 30, 30])"
      ]
     },
     "execution_count": 19,
     "metadata": {},
     "output_type": "execute_result"
    }
   ],
   "source": [
    "x=np.array([10,10,20,20,30,30])\n",
    "x"
   ]
  },
  {
   "cell_type": "code",
   "execution_count": 20,
   "id": "86f2d6a1",
   "metadata": {},
   "outputs": [
    {
     "data": {
      "text/plain": [
       "array([10, 20, 30])"
      ]
     },
     "execution_count": 20,
     "metadata": {},
     "output_type": "execute_result"
    }
   ],
   "source": [
    "np.unique(x)"
   ]
  },
  {
   "cell_type": "code",
   "execution_count": 23,
   "id": "e448cdad",
   "metadata": {},
   "outputs": [
    {
     "data": {
      "text/plain": [
       "array([[1, 1],\n",
       "       [2, 3]])"
      ]
     },
     "execution_count": 23,
     "metadata": {},
     "output_type": "execute_result"
    }
   ],
   "source": [
    "y = np.array([[1, 1], [2, 3]])\n",
    "y"
   ]
  },
  {
   "cell_type": "code",
   "execution_count": 22,
   "id": "0e46def4",
   "metadata": {},
   "outputs": [
    {
     "data": {
      "text/plain": [
       "array([1, 2, 3])"
      ]
     },
     "execution_count": 22,
     "metadata": {},
     "output_type": "execute_result"
    }
   ],
   "source": [
    "np.unique(y)"
   ]
  },
  {
   "cell_type": "markdown",
   "id": "0a924f2d",
   "metadata": {},
   "source": [
    "## PANDAS"
   ]
  },
  {
   "cell_type": "code",
   "execution_count": 24,
   "id": "b14971fb",
   "metadata": {},
   "outputs": [],
   "source": [
    "import pandas as pd"
   ]
  },
  {
   "cell_type": "markdown",
   "id": "94955433",
   "metadata": {},
   "source": [
    "2. Write a Pandas program to convert a Panda module Series to Python list and it's type."
   ]
  },
  {
   "cell_type": "code",
   "execution_count": 25,
   "id": "5ebda397",
   "metadata": {},
   "outputs": [
    {
     "data": {
      "text/plain": [
       "0     2\n",
       "1     4\n",
       "2     6\n",
       "3     8\n",
       "4    10\n",
       "dtype: int64"
      ]
     },
     "execution_count": 25,
     "metadata": {},
     "output_type": "execute_result"
    }
   ],
   "source": [
    "ds=pd.Series([2,4,6,8,10])\n",
    "ds"
   ]
  },
  {
   "cell_type": "code",
   "execution_count": 26,
   "id": "3d42dbc3",
   "metadata": {},
   "outputs": [
    {
     "data": {
      "text/plain": [
       "pandas.core.series.Series"
      ]
     },
     "execution_count": 26,
     "metadata": {},
     "output_type": "execute_result"
    }
   ],
   "source": [
    "type(ds)"
   ]
  },
  {
   "cell_type": "code",
   "execution_count": 27,
   "id": "30f984ad",
   "metadata": {},
   "outputs": [
    {
     "data": {
      "text/plain": [
       "[2, 4, 6, 8, 10]"
      ]
     },
     "execution_count": 27,
     "metadata": {},
     "output_type": "execute_result"
    }
   ],
   "source": [
    "ds.to_list()"
   ]
  },
  {
   "cell_type": "code",
   "execution_count": 28,
   "id": "69e94673",
   "metadata": {},
   "outputs": [
    {
     "data": {
      "text/plain": [
       "list"
      ]
     },
     "execution_count": 28,
     "metadata": {},
     "output_type": "execute_result"
    }
   ],
   "source": [
    "type(ds.to_list())"
   ]
  },
  {
   "cell_type": "markdown",
   "id": "9dd77fd1",
   "metadata": {},
   "source": [
    "\n",
    "\n"
   ]
  },
  {
   "cell_type": "markdown",
   "id": "f02bf499",
   "metadata": {},
   "source": [
    "\n",
    "\n",
    "\n"
   ]
  },
  {
   "cell_type": "markdown",
   "id": "5cb5e48e",
   "metadata": {},
   "source": [
    "3. Write a Pandas program to add, subtract, multiple and divide two Pandas Series."
   ]
  },
  {
   "cell_type": "code",
   "execution_count": 29,
   "id": "f5740410",
   "metadata": {},
   "outputs": [],
   "source": [
    "ds1 = pd.Series([2, 4, 6, 8, 10])\n",
    "ds2 = pd.Series([1, 3, 5, 7, 9])"
   ]
  },
  {
   "cell_type": "code",
   "execution_count": 30,
   "id": "c2872751",
   "metadata": {},
   "outputs": [
    {
     "data": {
      "text/plain": [
       "0     3\n",
       "1     7\n",
       "2    11\n",
       "3    15\n",
       "4    19\n",
       "dtype: int64"
      ]
     },
     "execution_count": 30,
     "metadata": {},
     "output_type": "execute_result"
    }
   ],
   "source": [
    "ds1+ds2"
   ]
  },
  {
   "cell_type": "code",
   "execution_count": 31,
   "id": "54561f7b",
   "metadata": {},
   "outputs": [
    {
     "data": {
      "text/plain": [
       "0    1\n",
       "1    1\n",
       "2    1\n",
       "3    1\n",
       "4    1\n",
       "dtype: int64"
      ]
     },
     "execution_count": 31,
     "metadata": {},
     "output_type": "execute_result"
    }
   ],
   "source": [
    "ds1-ds2"
   ]
  },
  {
   "cell_type": "code",
   "execution_count": 32,
   "id": "64bfa6c3",
   "metadata": {},
   "outputs": [
    {
     "data": {
      "text/plain": [
       "0     2\n",
       "1    12\n",
       "2    30\n",
       "3    56\n",
       "4    90\n",
       "dtype: int64"
      ]
     },
     "execution_count": 32,
     "metadata": {},
     "output_type": "execute_result"
    }
   ],
   "source": [
    "ds1*ds2"
   ]
  },
  {
   "cell_type": "code",
   "execution_count": 33,
   "id": "ce259835",
   "metadata": {},
   "outputs": [
    {
     "data": {
      "text/plain": [
       "0    2.000000\n",
       "1    1.333333\n",
       "2    1.200000\n",
       "3    1.142857\n",
       "4    1.111111\n",
       "dtype: float64"
      ]
     },
     "execution_count": 33,
     "metadata": {},
     "output_type": "execute_result"
    }
   ],
   "source": [
    "ds1/ds2"
   ]
  },
  {
   "cell_type": "markdown",
   "id": "c59b1dee",
   "metadata": {},
   "source": [
    "\n",
    "\n"
   ]
  },
  {
   "cell_type": "markdown",
   "id": "4d17001f",
   "metadata": {},
   "source": [
    "\n",
    "\n"
   ]
  },
  {
   "cell_type": "markdown",
   "id": "cc11af07",
   "metadata": {},
   "source": [
    "Write a Pandas program to convert a dictionary to a Pandas series."
   ]
  },
  {
   "cell_type": "code",
   "execution_count": 34,
   "id": "9f542271",
   "metadata": {},
   "outputs": [],
   "source": [
    "dictionary={'a': 100, 'b': 200, 'c': 300, 'd': 400, 'e': 800}"
   ]
  },
  {
   "cell_type": "code",
   "execution_count": 36,
   "id": "86aca60f",
   "metadata": {},
   "outputs": [
    {
     "data": {
      "text/plain": [
       "a    100\n",
       "b    200\n",
       "c    300\n",
       "d    400\n",
       "e    800\n",
       "dtype: int64"
      ]
     },
     "execution_count": 36,
     "metadata": {},
     "output_type": "execute_result"
    }
   ],
   "source": [
    "dictionary_series=pd.Series(dictionary)\n",
    "dictionary_series"
   ]
  },
  {
   "cell_type": "markdown",
   "id": "f86cf0d0",
   "metadata": {},
   "source": [
    "6. Write a Pandas program to convert a NumPy array to a Pandas series."
   ]
  },
  {
   "cell_type": "code",
   "execution_count": 55,
   "id": "18a133c2",
   "metadata": {},
   "outputs": [
    {
     "data": {
      "text/plain": [
       "array([10, 20, 30, 40, 50])"
      ]
     },
     "execution_count": 55,
     "metadata": {},
     "output_type": "execute_result"
    }
   ],
   "source": [
    "a=np.array([10,20,30,40, 50])\n",
    "a"
   ]
  },
  {
   "cell_type": "code",
   "execution_count": 57,
   "id": "68a26eac",
   "metadata": {},
   "outputs": [
    {
     "data": {
      "text/plain": [
       "0    10\n",
       "1    20\n",
       "2    30\n",
       "3    40\n",
       "4    50\n",
       "dtype: int64"
      ]
     },
     "execution_count": 57,
     "metadata": {},
     "output_type": "execute_result"
    }
   ],
   "source": [
    "a=pd.Series(a)\n",
    "a"
   ]
  },
  {
   "cell_type": "markdown",
   "id": "a833b454",
   "metadata": {},
   "source": [
    "13.Write a Pandas program to create a subset of a given series based on value and condition"
   ]
  },
  {
   "cell_type": "code",
   "execution_count": 59,
   "id": "93956b40",
   "metadata": {},
   "outputs": [
    {
     "data": {
      "text/plain": [
       "0      0\n",
       "1      1\n",
       "2      2\n",
       "3      3\n",
       "4      4\n",
       "5      5\n",
       "6      6\n",
       "7      7\n",
       "8      8\n",
       "9      9\n",
       "10    10\n",
       "dtype: int64"
      ]
     },
     "execution_count": 59,
     "metadata": {},
     "output_type": "execute_result"
    }
   ],
   "source": [
    "s = pd.Series([0, 1,2,3,4,5,6,7,8,9,10])\n",
    "s"
   ]
  },
  {
   "cell_type": "code",
   "execution_count": 64,
   "id": "e5a76352",
   "metadata": {},
   "outputs": [
    {
     "data": {
      "text/plain": [
       "0     False\n",
       "1     False\n",
       "2     False\n",
       "3     False\n",
       "4     False\n",
       "5     False\n",
       "6     False\n",
       "7      True\n",
       "8      True\n",
       "9      True\n",
       "10     True\n",
       "dtype: bool"
      ]
     },
     "execution_count": 64,
     "metadata": {},
     "output_type": "execute_result"
    }
   ],
   "source": [
    "s>6"
   ]
  },
  {
   "cell_type": "code",
   "execution_count": 62,
   "id": "9ae60e30",
   "metadata": {},
   "outputs": [
    {
     "data": {
      "text/plain": [
       "7      7\n",
       "8      8\n",
       "9      9\n",
       "10    10\n",
       "dtype: int64"
      ]
     },
     "execution_count": 62,
     "metadata": {},
     "output_type": "execute_result"
    }
   ],
   "source": [
    "new_s=s[s>6]\n",
    "new_s"
   ]
  },
  {
   "cell_type": "code",
   "execution_count": null,
   "id": "04a6713e",
   "metadata": {},
   "outputs": [],
   "source": []
  },
  {
   "cell_type": "code",
   "execution_count": null,
   "id": "177f60ec",
   "metadata": {},
   "outputs": [],
   "source": []
  },
  {
   "cell_type": "code",
   "execution_count": null,
   "id": "378da093",
   "metadata": {},
   "outputs": [],
   "source": []
  }
 ],
 "metadata": {
  "kernelspec": {
   "display_name": "Python 3",
   "language": "python",
   "name": "python3"
  },
  "language_info": {
   "codemirror_mode": {
    "name": "ipython",
    "version": 3
   },
   "file_extension": ".py",
   "mimetype": "text/x-python",
   "name": "python",
   "nbconvert_exporter": "python",
   "pygments_lexer": "ipython3",
   "version": "3.8.8"
  }
 },
 "nbformat": 4,
 "nbformat_minor": 5
}
